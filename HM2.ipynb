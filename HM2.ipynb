{
 "cells": [
  {
   "cell_type": "markdown",
   "metadata": {},
   "source": [
    "# HM2: Numerical Optimization for Logistic Regression.\n",
    "\n",
    "### Name: Tianrui Wang\n"
   ]
  },
  {
   "cell_type": "markdown",
   "metadata": {},
   "source": [
    "## 0. You will do the following:\n",
    "\n",
    "1. Read the lecture note: [click here](https://github.com/wangshusen/DeepLearning/blob/master/LectureNotes/Logistic/paper/logistic.pdf)\n",
    "\n",
    "2. Read, complete, and run my code.\n",
    "\n",
    "3. **Implement mini-batch SGD** and evaluate the performance.\n",
    "\n",
    "4. Convert the .IPYNB file to .HTML file.\n",
    "\n",
    "    * The HTML file must contain **the code** and **the output after execution**.\n",
    "    \n",
    "    * Missing **the output after execution** will not be graded.\n",
    "    \n",
    "5. Upload this .HTML file to your Google Drive, Dropbox, or your Github repo.  (If you submit the file to Google Drive or Dropbox, you must make the file \"open-access\". The delay caused by \"deny of access\" may result in late penalty.)\n",
    "\n",
    "6. Submit the link to this .HTML file to Canvas.\n",
    "\n",
    "    * Example: https://github.com/wangshusen/CS583-2020S/blob/master/homework/HM2/HM2.html\n",
    "\n",
    "\n",
    "## Grading criteria:\n",
    "\n",
    "1. When computing the ```gradient``` and ```objective function value``` using a batch of samples, use **matrix-vector multiplication** rather than a FOR LOOP of **vector-vector multiplications**.\n",
    "\n",
    "2. Plot ```objective function value``` against ```epochs```. In the plot, compare GD, SGD, and MB-SGD (with $b=8$ and $b=64$). The plot must look reasonable."
   ]
  },
  {
   "cell_type": "markdown",
   "metadata": {},
   "source": [
    "# 1. Data processing\n",
    "\n",
    "- Download the Diabete dataset from https://www.csie.ntu.edu.tw/~cjlin/libsvmtools/datasets/binary/diabetes\n",
    "- Load the data using sklearn.\n",
    "- Preprocess the data."
   ]
  },
  {
   "cell_type": "markdown",
   "metadata": {},
   "source": [
    "## 1.1. Load the data"
   ]
  },
  {
   "cell_type": "code",
   "execution_count": 1,
   "metadata": {},
   "outputs": [
    {
     "name": "stdout",
     "output_type": "stream",
     "text": [
      "Shape of x: (768, 8)\n",
      "Shape of y: (768,)\n"
     ]
    }
   ],
   "source": [
    "from sklearn import datasets\n",
    "import numpy\n",
    "\n",
    "x_sparse, y = datasets.load_svmlight_file('diabetes')\n",
    "x = x_sparse.todense() ## switching from sparse matrix storage format [(i,j) value] to a normal matrix\n",
    "\n",
    "print('Shape of x: ' + str(x.shape))\n",
    "print('Shape of y: ' + str(y.shape))"
   ]
  },
  {
   "cell_type": "markdown",
   "metadata": {},
   "source": [
    "## 1.2. Partition to training and test sets"
   ]
  },
  {
   "cell_type": "code",
   "execution_count": 2,
   "metadata": {},
   "outputs": [
    {
     "name": "stdout",
     "output_type": "stream",
     "text": [
      "Shape of x_train: (640, 8)\n",
      "Shape of x_test: (128, 8)\n",
      "Shape of y_train: (640, 1)\n",
      "Shape of y_test: (128, 1)\n"
     ]
    }
   ],
   "source": [
    "# partition the data to training and test sets\n",
    "n = x.shape[0]\n",
    "n_train = 640 # 640/768 = 0.83333 = 5/6 why ???\n",
    "n_test = n - n_train\n",
    "\n",
    "rand_indices = numpy.random.permutation(n)\n",
    "train_indices = rand_indices[0:n_train]\n",
    "test_indices = rand_indices[n_train:n]\n",
    "\n",
    "x_train = x[train_indices, :]\n",
    "x_test = x[test_indices, :]\n",
    "y_train = y[train_indices].reshape(n_train, 1)\n",
    "y_test = y[test_indices].reshape(n_test, 1)\n",
    "\n",
    "print('Shape of x_train: ' + str(x_train.shape))\n",
    "print('Shape of x_test: ' + str(x_test.shape))\n",
    "print('Shape of y_train: ' + str(y_train.shape))\n",
    "print('Shape of y_test: ' + str(y_test.shape))"
   ]
  },
  {
   "cell_type": "markdown",
   "metadata": {},
   "source": [
    "## 1.3. Feature scaling"
   ]
  },
  {
   "cell_type": "markdown",
   "metadata": {},
   "source": [
    "Use the standardization to trainsform both training and test features"
   ]
  },
  {
   "cell_type": "code",
   "execution_count": 3,
   "metadata": {},
   "outputs": [
    {
     "name": "stdout",
     "output_type": "stream",
     "text": [
      "test mean = \n",
      "[[-0.05836358 -0.07581501  0.04075577  0.11662346  0.08958252  0.09865202\n",
      "   0.11476345  0.14226561]]\n",
      "test std = \n",
      "[[0.93942632 1.04117965 1.04103617 0.96303802 1.02827778 0.88813701\n",
      "  1.1490515  1.03113041]]\n"
     ]
    }
   ],
   "source": [
    "# Standardizati on\n",
    "import numpy\n",
    "\n",
    "# calculate mu and sig using the training set (don't mess up your stand with testing data cuz...)\n",
    "d = x_train.shape[1]\n",
    "mu = numpy.mean(x_train, axis=0).reshape(1, d) # shape = (1,8)\n",
    "sig = numpy.std(x_train, axis=0).reshape(1, d)\n",
    "\n",
    "# transform the training features\n",
    "x_train = (x_train - mu) / (sig + 1E-6) ### adding 1E-6 to avoid dividing by zero\n",
    "\n",
    "# transform the test features\n",
    "x_test = (x_test - mu) / (sig + 1E-6) # broadcasting\n",
    "\n",
    "print('test mean = ')\n",
    "print(numpy.mean(x_test, axis=0))\n",
    "\n",
    "print('test std = ')\n",
    "print(numpy.std(x_test, axis=0))"
   ]
  },
  {
   "cell_type": "markdown",
   "metadata": {},
   "source": [
    "## 1.4. Add a dimension of all ones"
   ]
  },
  {
   "cell_type": "code",
   "execution_count": 4,
   "metadata": {},
   "outputs": [
    {
     "name": "stdout",
     "output_type": "stream",
     "text": [
      "Shape of x_train: (640, 9)\n",
      "Shape of x_test: (128, 9)\n"
     ]
    }
   ],
   "source": [
    "n_train, d = x_train.shape\n",
    "x_train = numpy.concatenate((x_train, numpy.ones((n_train, 1))), axis=1)\n",
    "\n",
    "n_test, d = x_test.shape\n",
    "x_test = numpy.concatenate((x_test, numpy.ones((n_test, 1))), axis=1)\n",
    "\n",
    "print('Shape of x_train: ' + str(x_train.shape))\n",
    "print('Shape of x_test: ' + str(x_test.shape))"
   ]
  },
  {
   "cell_type": "markdown",
   "metadata": {},
   "source": [
    "# 2. Logistic regression model\n",
    "\n",
    "The objective function is $Q (w; X, y) = \\frac{1}{n} \\sum_{i=1}^n \\log \\Big( 1 + \\exp \\big( - y_i x_i^T w \\big) \\Big) + \\frac{\\lambda}{2} \\| w \\|_2^2 $."
   ]
  },
  {
   "cell_type": "code",
   "execution_count": 5,
   "metadata": {},
   "outputs": [],
   "source": [
    "# Calculate the objective function value\n",
    "# Inputs:\n",
    "#     w: d-by-1 matrix\n",
    "#     x: n-by-d matrix\n",
    "#     y: n-by-1 matrix\n",
    "#     lam: scalar, the regularization parameter\n",
    "# Return: \n",
    "#     objective function value (scalar)\n",
    "def objective(w, x, y, lam):\n",
    "    n, d = x.shape\n",
    "    yx = numpy.multiply(y, x) # n-by-d matrix (broadcasting)\n",
    "    yxw = numpy.dot(yx, w) # n-by-1 matrix\n",
    "    vec1 = numpy.exp(-yxw) # n-by-1 matrix\n",
    "    vec2 = numpy.log(1 + vec1) # n-by-1 matrix\n",
    "    loss = numpy.mean(vec2) # scalar\n",
    "    reg = lam / 2 * numpy.sum(w * w) # scalar\n",
    "    return loss + reg\n",
    "    "
   ]
  },
  {
   "cell_type": "code",
   "execution_count": 6,
   "metadata": {},
   "outputs": [
    {
     "name": "stdout",
     "output_type": "stream",
     "text": [
      "Initial objective function value = 0.6931471805599453\n"
     ]
    }
   ],
   "source": [
    "# initialize w\n",
    "d = x_train.shape[1]\n",
    "w = numpy.zeros((d, 1))\n",
    "\n",
    "# evaluate the objective function value at w\n",
    "lam = 1E-6 ### ???\n",
    "objval0 = objective(w, x_train, y_train, lam)\n",
    "print('Initial objective function value = ' + str(objval0))"
   ]
  },
  {
   "cell_type": "markdown",
   "metadata": {},
   "source": [
    "# 3. Numerical optimization"
   ]
  },
  {
   "cell_type": "markdown",
   "metadata": {},
   "source": [
    "## 3.1. Gradient descent\n"
   ]
  },
  {
   "cell_type": "markdown",
   "metadata": {},
   "source": [
    "The gradient at $w$ is $g = - \\frac{1}{n} \\sum_{i=1}^n \\frac{y_i x_i }{1 + \\exp ( y_i x_i^T w)} + \\lambda w$"
   ]
  },
  {
   "cell_type": "code",
   "execution_count": 7,
   "metadata": {},
   "outputs": [],
   "source": [
    "# Calculate the gradient\n",
    "# Inputs:\n",
    "#     w: d-by-1 matrix\n",
    "#     x: n-by-d matrix\n",
    "#     y: n-by-1 matrix\n",
    "#     lam: scalar, the regularization parameter\n",
    "# Return:\n",
    "#     g: g: d-by-1 matrix, full gradient\n",
    "def gradient(w, x, y, lam):\n",
    "    n, d = x.shape\n",
    "    yx = numpy.multiply(y, x) # n-by-d matrix\n",
    "    yxw = numpy.dot(yx, w) # n-by-1 matrix\n",
    "    vec1 = numpy.exp(yxw) # n-by-1 matrix\n",
    "    vec2 = numpy.divide(yx, 1+vec1) # n-by-d matrix\n",
    "    vec3 = -numpy.mean(vec2, axis=0).reshape(d, 1) # d-by-1 matrix\n",
    "    g = vec3 + lam * w\n",
    "    return g"
   ]
  },
  {
   "cell_type": "code",
   "execution_count": 8,
   "metadata": {},
   "outputs": [],
   "source": [
    "# Gradient descent for solving logistic regression\n",
    "# Inputs:\n",
    "#     x: n-by-d matrix\n",
    "#     y: n-by-1 matrix\n",
    "#     lam: scalar, the regularization parameter\n",
    "#     stepsize: scalar ## learning rate\n",
    "#     max_iter: integer, the maximal iterations\n",
    "#     w: d-by-1 matrix, initialization of w\n",
    "# Return:\n",
    "#     w: d-by-1 matrix, the solution\n",
    "#     objvals: a record of each iteration's objective value\n",
    "def grad_descent(x, y, lam, stepsize, max_iter=100, w=None):\n",
    "    n, d = x.shape\n",
    "    objvals = numpy.zeros(max_iter) # store the objective values\n",
    "    if w is None:\n",
    "        w = numpy.zeros((d, 1)) # zero initialization\n",
    "    \n",
    "    for t in range(max_iter):\n",
    "        objval = objective(w, x, y, lam)\n",
    "        objvals[t] = objval\n",
    "        print('Objective value at t=' + str(t) + ' is ' + str(objval))\n",
    "        g = gradient(w, x, y, lam)\n",
    "        w -= stepsize * g\n",
    "    \n",
    "    return w, objvals"
   ]
  },
  {
   "cell_type": "markdown",
   "metadata": {},
   "source": [
    "Run gradient descent."
   ]
  },
  {
   "cell_type": "code",
   "execution_count": 9,
   "metadata": {},
   "outputs": [
    {
     "name": "stdout",
     "output_type": "stream",
     "text": [
      "Objective value at t=0 is 0.6931471805599453\n",
      "Objective value at t=1 is 0.5899343123032353\n",
      "Objective value at t=2 is 0.5460713363064904\n",
      "Objective value at t=3 is 0.5218647775324107\n",
      "Objective value at t=4 is 0.506489306308128\n",
      "Objective value at t=5 is 0.49593160425218796\n",
      "Objective value at t=6 is 0.48832245173194144\n",
      "Objective value at t=7 is 0.48265382513045535\n",
      "Objective value at t=8 is 0.4783267183960289\n",
      "Objective value at t=9 is 0.4749605865797117\n",
      "Objective value at t=10 is 0.4723017728180801\n",
      "Objective value at t=11 is 0.4701749692174629\n",
      "Objective value at t=12 is 0.46845551900530813\n",
      "Objective value at t=13 is 0.4670526995126543\n",
      "Objective value at t=14 is 0.4658991843171248\n",
      "Objective value at t=15 is 0.4649441668140142\n",
      "Objective value at t=16 is 0.46414874422607627\n",
      "Objective value at t=17 is 0.4634827443219937\n",
      "Objective value at t=18 is 0.4629224986990327\n",
      "Objective value at t=19 is 0.4624492518482872\n",
      "Objective value at t=20 is 0.4620480060498873\n",
      "Objective value at t=21 is 0.4617066704661109\n",
      "Objective value at t=22 is 0.4614154260216579\n",
      "Objective value at t=23 is 0.46116624562147845\n",
      "Objective value at t=24 is 0.46095252770429657\n",
      "Objective value at t=25 is 0.4607688135165181\n",
      "Objective value at t=26 is 0.460610566941132\n",
      "Objective value at t=27 is 0.46047400156499546\n",
      "Objective value at t=28 is 0.4603559437709232\n",
      "Objective value at t=29 is 0.4602537235554441\n",
      "Objective value at t=30 is 0.460165086867514\n",
      "Objective value at t=31 is 0.46008812478510225\n",
      "Objective value at t=32 is 0.46002121596344947\n",
      "Objective value at t=33 is 0.4599629796165395\n",
      "Objective value at t=34 is 0.4599122369123973\n",
      "Objective value at t=35 is 0.459867979129813\n",
      "Objective value at t=36 is 0.4598293412792373\n",
      "Objective value at t=37 is 0.45979558016275407\n",
      "Objective value at t=38 is 0.45976605605811877\n",
      "Objective value at t=39 is 0.4597402173751405\n",
      "Objective value at t=40 is 0.4597175877604152\n",
      "Objective value at t=41 is 0.4596977552269576\n",
      "Objective value at t=42 is 0.4596803629648794\n",
      "Objective value at t=43 is 0.4596651015526191\n",
      "Objective value at t=44 is 0.4596517023389407\n",
      "Objective value at t=45 is 0.45963993180668555\n",
      "Objective value at t=46 is 0.45962958676221816\n",
      "Objective value at t=47 is 0.4596204902212365\n",
      "Objective value at t=48 is 0.4596124878834137\n",
      "Objective value at t=49 is 0.4596054451061661\n",
      "Objective value at t=50 is 0.4595992443024943\n",
      "Objective value at t=51 is 0.4595937826999117\n",
      "Objective value at t=52 is 0.4595889704074668\n",
      "Objective value at t=53 is 0.4595847287461547\n",
      "Objective value at t=54 is 0.4595809888049097\n",
      "Objective value at t=55 is 0.4595776901901373\n",
      "Objective value at t=56 is 0.45957477994156126\n",
      "Objective value at t=57 is 0.45957221159121986\n",
      "Objective value at t=58 is 0.45956994434584264\n",
      "Objective value at t=59 is 0.4595679423757253\n",
      "Objective value at t=60 is 0.4595661741956451\n",
      "Objective value at t=61 is 0.4595646121254212\n",
      "Objective value at t=62 is 0.45956323181947756\n",
      "Objective value at t=63 is 0.4595620118562509\n",
      "Objective value at t=64 is 0.4595609333795575\n",
      "Objective value at t=65 is 0.4595599797851193\n",
      "Objective value at t=66 is 0.4595591364463729\n",
      "Objective value at t=67 is 0.4595583904744822\n",
      "Objective value at t=68 is 0.4595577305081599\n",
      "Objective value at t=69 is 0.4595571465294842\n",
      "Objective value at t=70 is 0.45955662970240674\n",
      "Objective value at t=71 is 0.45955617223107975\n",
      "Objective value at t=72 is 0.4595557672355073\n",
      "Objective value at t=73 is 0.45955540864234823\n",
      "Objective value at t=74 is 0.4595550910889819\n",
      "Objective value at t=75 is 0.459554809839186\n",
      "Objective value at t=76 is 0.4595545607089927\n",
      "Objective value at t=77 is 0.459554340001465\n",
      "Objective value at t=78 is 0.4595541444493011\n",
      "Objective value at t=79 is 0.4595539711643055\n",
      "Objective value at t=80 is 0.4595538175928925\n",
      "Objective value at t=81 is 0.459553681476886\n",
      "Objective value at t=82 is 0.45955356081897647\n",
      "Objective value at t=83 is 0.4595534538522699\n",
      "Objective value at t=84 is 0.45955335901343847\n",
      "Objective value at t=85 is 0.4595532749190375\n",
      "Objective value at t=86 is 0.4595532003446119\n",
      "Objective value at t=87 is 0.45955313420625743\n",
      "Objective value at t=88 is 0.4595530755443436\n",
      "Objective value at t=89 is 0.45955302350914407\n",
      "Objective value at t=90 is 0.45955297734814404\n",
      "Objective value at t=91 is 0.45955293639482914\n",
      "Objective value at t=92 is 0.4595529000587809\n",
      "Objective value at t=93 is 0.45955286781692256\n",
      "Objective value at t=94 is 0.4595528392057819\n",
      "Objective value at t=95 is 0.45955281381465085\n",
      "Objective value at t=96 is 0.45955279127953735\n",
      "Objective value at t=97 is 0.45955277127781535\n",
      "Objective value at t=98 is 0.4595527535234939\n",
      "Objective value at t=99 is 0.45955273776303013\n"
     ]
    }
   ],
   "source": [
    "lam = 1E-6\n",
    "stepsize = 1.0\n",
    "w, objvals_gd = grad_descent(x_train, y_train, lam, stepsize)"
   ]
  },
  {
   "cell_type": "markdown",
   "metadata": {},
   "source": [
    "## 3.2. Stochastic gradient descent (SGD)\n",
    "\n",
    "Define $Q_i (w) = \\log \\Big( 1 + \\exp \\big( - y_i x_i^T w \\big) \\Big) + \\frac{\\lambda}{2} \\| w \\|_2^2 $.\n",
    "\n",
    "The stochastic gradient at $w$ is $g_i = \\frac{\\partial Q_i }{ \\partial w} = -\\frac{y_i x_i }{1 + \\exp ( y_i x_i^T w)} + \\lambda w$."
   ]
  },
  {
   "cell_type": "code",
   "execution_count": 10,
   "metadata": {},
   "outputs": [],
   "source": [
    "# Calculate the objective Q_i and the gradient of Q_i\n",
    "# Inputs:\n",
    "#     w: d-by-1 matrix\n",
    "#     xi: 1-by-d matrix\n",
    "#     yi: scalar\n",
    "#     lam: scalar, the regularization parameter\n",
    "# Return:\n",
    "#     obj: scalar, the objective Q_i\n",
    "#     g: d-by-1 matrix, gradient of Q_i\n",
    "def stochastic_objective_gradient(w, xi, yi, lam):\n",
    "    d = xi.shape[0]\n",
    "    yx = yi * xi # 1-by-d matrix\n",
    "    yxw = float(numpy.dot(yx, w)) # scalar\n",
    "    \n",
    "    # calculate objective function Q_i\n",
    "    loss = numpy.log(1 + numpy.exp(-yxw)) # scalar\n",
    "    reg = lam / 2 * numpy.sum(w * w) # scalar\n",
    "    obj = loss + reg\n",
    "    \n",
    "    # calculate stochastic gradient\n",
    "    g_loss = -yx.T / (1 + numpy.exp(yxw)) # d-by-1 matrix\n",
    "    g = g_loss + lam * w # d-by-1 matrix\n",
    "    \n",
    "    return obj, g"
   ]
  },
  {
   "cell_type": "code",
   "execution_count": 11,
   "metadata": {},
   "outputs": [],
   "source": [
    "# SGD for solving logistic regression\n",
    "# Inputs:\n",
    "#     x: n-by-d matrix\n",
    "#     y: n-by-1 matrix\n",
    "#     lam: scalar, the regularization parameter\n",
    "#     stepsize: scalar\n",
    "#     max_epoch: integer, the maximal epochs\n",
    "#     w: d-by-1 matrix, initialization of w\n",
    "# Return:\n",
    "#     w: the solution\n",
    "#     objvals: record of each iteration's objective value\n",
    "def sgd(x, y, lam, stepsize, max_epoch=100, w=None):\n",
    "    n, d = x.shape\n",
    "    objvals = numpy.zeros(max_epoch) # store the objective values\n",
    "    if w is None:\n",
    "        w = numpy.zeros((d, 1)) # zero initialization\n",
    "    \n",
    "    for t in range(max_epoch):\n",
    "        # randomly shuffle the samples\n",
    "        rand_indices = numpy.random.permutation(n)\n",
    "        x_rand = x[rand_indices, :]\n",
    "        y_rand = y[rand_indices, :]\n",
    "        \n",
    "        objval = 0 # accumulate the objective values\n",
    "        for i in range(n):\n",
    "            xi = x_rand[i, :] # 1-by-d matrix\n",
    "            yi = float(y_rand[i, :]) # scalar\n",
    "            obj, g = stochastic_objective_gradient(w, xi, yi, lam)\n",
    "            objval += obj\n",
    "            w -= stepsize * g\n",
    "        \n",
    "        stepsize *= 0.9 # decrease step size\n",
    "        objval /= n\n",
    "        objvals[t] = objval\n",
    "        print('Objective value at epoch t=' + str(t) + ' is ' + str(objval))\n",
    "    \n",
    "    return w, objvals"
   ]
  },
  {
   "cell_type": "markdown",
   "metadata": {},
   "source": [
    "Run SGD."
   ]
  },
  {
   "cell_type": "code",
   "execution_count": 12,
   "metadata": {},
   "outputs": [
    {
     "name": "stdout",
     "output_type": "stream",
     "text": [
      "Objective value at epoch t=0 is 0.5215555321602261\n",
      "Objective value at epoch t=1 is 0.508040593017604\n",
      "Objective value at epoch t=2 is 0.5083714243545157\n",
      "Objective value at epoch t=3 is 0.49462102823958726\n",
      "Objective value at epoch t=4 is 0.4914474617965069\n",
      "Objective value at epoch t=5 is 0.4904159461275429\n",
      "Objective value at epoch t=6 is 0.48757234116461684\n",
      "Objective value at epoch t=7 is 0.4862078005367521\n",
      "Objective value at epoch t=8 is 0.4810383620639918\n",
      "Objective value at epoch t=9 is 0.47840615474040354\n",
      "Objective value at epoch t=10 is 0.47640020082539036\n",
      "Objective value at epoch t=11 is 0.4789474714203522\n",
      "Objective value at epoch t=12 is 0.4774105478606866\n",
      "Objective value at epoch t=13 is 0.4733807302901008\n",
      "Objective value at epoch t=14 is 0.47359329186877164\n",
      "Objective value at epoch t=15 is 0.47225474387600086\n",
      "Objective value at epoch t=16 is 0.4703769769549728\n",
      "Objective value at epoch t=17 is 0.47059492418281784\n",
      "Objective value at epoch t=18 is 0.46879961088463923\n",
      "Objective value at epoch t=19 is 0.4662910547922013\n",
      "Objective value at epoch t=20 is 0.46690998189415706\n",
      "Objective value at epoch t=21 is 0.4659722496352539\n",
      "Objective value at epoch t=22 is 0.46626054053227345\n",
      "Objective value at epoch t=23 is 0.4654442585705921\n",
      "Objective value at epoch t=24 is 0.463942506673956\n",
      "Objective value at epoch t=25 is 0.464648208203681\n",
      "Objective value at epoch t=26 is 0.463885147272753\n",
      "Objective value at epoch t=27 is 0.46326833175272003\n",
      "Objective value at epoch t=28 is 0.46322753641587483\n",
      "Objective value at epoch t=29 is 0.4628682360678196\n",
      "Objective value at epoch t=30 is 0.4624924676389134\n",
      "Objective value at epoch t=31 is 0.4622070931828167\n",
      "Objective value at epoch t=32 is 0.4619622190973821\n",
      "Objective value at epoch t=33 is 0.4614983938007521\n",
      "Objective value at epoch t=34 is 0.4615049854082178\n",
      "Objective value at epoch t=35 is 0.46135955311327115\n",
      "Objective value at epoch t=36 is 0.46113693759623137\n",
      "Objective value at epoch t=37 is 0.46091994777915113\n",
      "Objective value at epoch t=38 is 0.4608583095741112\n",
      "Objective value at epoch t=39 is 0.4606918985827189\n",
      "Objective value at epoch t=40 is 0.46062076331405094\n",
      "Objective value at epoch t=41 is 0.46052600784509606\n",
      "Objective value at epoch t=42 is 0.46040958519475766\n",
      "Objective value at epoch t=43 is 0.46032614815917067\n",
      "Objective value at epoch t=44 is 0.46024981761521716\n",
      "Objective value at epoch t=45 is 0.4601863649970063\n",
      "Objective value at epoch t=46 is 0.460123666787689\n",
      "Objective value at epoch t=47 is 0.4600672676684866\n",
      "Objective value at epoch t=48 is 0.4600154658632104\n",
      "Objective value at epoch t=49 is 0.4599637437147332\n",
      "Objective value at epoch t=50 is 0.4599279168635132\n",
      "Objective value at epoch t=51 is 0.45988599364648425\n",
      "Objective value at epoch t=52 is 0.45985728364175416\n",
      "Objective value at epoch t=53 is 0.4598263712166221\n",
      "Objective value at epoch t=54 is 0.45979957188222736\n",
      "Objective value at epoch t=55 is 0.4597743552260156\n",
      "Objective value at epoch t=56 is 0.4597528717170888\n",
      "Objective value at epoch t=57 is 0.45973178883138627\n",
      "Objective value at epoch t=58 is 0.45971507639509\n",
      "Objective value at epoch t=59 is 0.45969841535589817\n",
      "Objective value at epoch t=60 is 0.4596841894353207\n",
      "Objective value at epoch t=61 is 0.45967100239821485\n",
      "Objective value at epoch t=62 is 0.4596592828640902\n",
      "Objective value at epoch t=63 is 0.45964851611464397\n",
      "Objective value at epoch t=64 is 0.4596391074488714\n",
      "Objective value at epoch t=65 is 0.4596304268882375\n",
      "Objective value at epoch t=66 is 0.45962269554834567\n",
      "Objective value at epoch t=67 is 0.4596157672578167\n",
      "Objective value at epoch t=68 is 0.45960948899897913\n",
      "Objective value at epoch t=69 is 0.4596038293180432\n",
      "Objective value at epoch t=70 is 0.45959869931841146\n",
      "Objective value at epoch t=71 is 0.4595941082536449\n",
      "Objective value at epoch t=72 is 0.4595899954245627\n",
      "Objective value at epoch t=73 is 0.45958630130695866\n",
      "Objective value at epoch t=74 is 0.4595829612081344\n",
      "Objective value at epoch t=75 is 0.4595799584030596\n",
      "Objective value at epoch t=76 is 0.4595772387401028\n",
      "Objective value at epoch t=77 is 0.45957480369677023\n",
      "Objective value at epoch t=78 is 0.4595726127773065\n",
      "Objective value at epoch t=79 is 0.4595706386563355\n",
      "Objective value at epoch t=80 is 0.4595688610889111\n",
      "Objective value at epoch t=81 is 0.4595672625042095\n",
      "Objective value at epoch t=82 is 0.459565821584761\n",
      "Objective value at epoch t=83 is 0.45956452636534567\n",
      "Objective value at epoch t=84 is 0.4595633583532508\n",
      "Objective value at epoch t=85 is 0.45956230870318854\n",
      "Objective value at epoch t=86 is 0.4595613634981984\n",
      "Objective value at epoch t=87 is 0.45956051340795484\n",
      "Objective value at epoch t=88 is 0.4595597484899391\n",
      "Objective value at epoch t=89 is 0.4595590594753201\n",
      "Objective value at epoch t=90 is 0.4595584393098795\n",
      "Objective value at epoch t=91 is 0.45955788103467626\n",
      "Objective value at epoch t=92 is 0.4595573797382374\n",
      "Objective value at epoch t=93 is 0.4595569270760733\n",
      "Objective value at epoch t=94 is 0.4595565204854619\n",
      "Objective value at epoch t=95 is 0.4595561546868566\n",
      "Objective value at epoch t=96 is 0.4595558248671942\n",
      "Objective value at epoch t=97 is 0.4595555284576426\n",
      "Objective value at epoch t=98 is 0.4595552616751066\n",
      "Objective value at epoch t=99 is 0.4595550213801151\n"
     ]
    }
   ],
   "source": [
    "lam = 1E-6\n",
    "stepsize = 0.1\n",
    "w, objvals_sgd = sgd(x_train, y_train, lam, stepsize)"
   ]
  },
  {
   "cell_type": "markdown",
   "metadata": {},
   "source": [
    "# 4. Compare GD with SGD\n",
    "\n",
    "Plot objective function values against epochs."
   ]
  },
  {
   "cell_type": "code",
   "execution_count": 13,
   "metadata": {},
   "outputs": [
    {
     "data": {
      "image/png": "[encoded data removed]",
      "text/plain": [
       "<Figure size 432x288 with 1 Axes>"
      ]
     },
     "metadata": {
      "needs_background": "light"
     },
     "output_type": "display_data"
    }
   ],
   "source": [
    "import matplotlib.pyplot as plt\n",
    "%matplotlib inline\n",
    "\n",
    "fig = plt.figure(figsize=(6, 4))\n",
    "\n",
    "epochs_gd = range(len(objvals_gd))\n",
    "epochs_sgd = range(len(objvals_sgd))\n",
    "\n",
    "line0, = plt.plot(epochs_gd, objvals_gd, '--b', LineWidth=4)\n",
    "line1, = plt.plot(epochs_sgd, objvals_sgd, '-r', LineWidth=2)\n",
    "plt.xlabel('Epochs', FontSize=20)\n",
    "plt.ylabel('Objective Value', FontSize=20)\n",
    "plt.xticks(FontSize=16)\n",
    "plt.yticks(FontSize=16)\n",
    "plt.legend([line0, line1], ['GD', 'SGD'], fontsize=20)\n",
    "plt.tight_layout()\n",
    "plt.show()\n",
    "fig.savefig('compare_gd_sgd.pdf', format='pdf', dpi=1200)"
   ]
  },
  {
   "cell_type": "markdown",
   "metadata": {},
   "source": [
    "# 5. Prediction"
   ]
  },
  {
   "cell_type": "code",
   "execution_count": 14,
   "metadata": {},
   "outputs": [],
   "source": [
    "# Predict class label\n",
    "# Inputs:\n",
    "#     w: d-by-1 matrix\n",
    "#     X: m-by-d matrix\n",
    "# Return:\n",
    "#     f: m-by-1 matrix, the predictions\n",
    "def predict(w, X):\n",
    "    xw = numpy.dot(X, w)\n",
    "    f = numpy.sign(xw)\n",
    "    return f"
   ]
  },
  {
   "cell_type": "code",
   "execution_count": 15,
   "metadata": {},
   "outputs": [
    {
     "name": "stdout",
     "output_type": "stream",
     "text": [
      "Training classification error is 0.215625\n"
     ]
    }
   ],
   "source": [
    "# evaluate training error\n",
    "f_train = predict(w, x_train)\n",
    "diff = numpy.abs(f_train - y_train) / 2\n",
    "error_train = numpy.mean(diff)\n",
    "print('Training classification error is ' + str(error_train))"
   ]
  },
  {
   "cell_type": "code",
   "execution_count": 16,
   "metadata": {},
   "outputs": [
    {
     "name": "stdout",
     "output_type": "stream",
     "text": [
      "Test classification error is 0.234375\n"
     ]
    }
   ],
   "source": [
    "# evaluate test error\n",
    "f_test = predict(w, x_test)\n",
    "diff = numpy.abs(f_test - y_test) / 2\n",
    "error_test = numpy.mean(diff)\n",
    "print('Test classification error is ' + str(error_test))"
   ]
  },
  {
   "cell_type": "markdown",
   "metadata": {},
   "source": [
    "# 6. Mini-batch SGD (fill the code)\n",
    "\n"
   ]
  },
  {
   "cell_type": "markdown",
   "metadata": {},
   "source": [
    "## 6.1. Compute the objective $Q_I$ and its gradient using a batch of samples\n",
    "\n",
    "Define $Q_I (w) = \\frac{1}{b} \\sum_{i \\in I} \\log \\Big( 1 + \\exp \\big( - y_i x_i^T w \\big) \\Big) + \\frac{\\lambda}{2} \\| w \\|_2^2 $, where $I$ is a set containing $b$ indices randomly drawn from $\\{ 1, \\cdots , n \\}$ without replacement.\n",
    "\n",
    "The stochastic gradient at $w$ is $g_I = \\frac{\\partial Q_I }{ \\partial w} = \\frac{1}{b} \\sum_{i \\in I} \\frac{- y_i x_i }{1 + \\exp ( y_i x_i^T w)} + \\lambda w$."
   ]
  },
  {
   "cell_type": "code",
   "execution_count": 17,
   "metadata": {},
   "outputs": [],
   "source": [
    "# Calculate the objective Q_I and the gradient of Q_I\n",
    "# Inputs:\n",
    "#     w: d-by-1 matrix\n",
    "#     xi: b-by-d matrix\n",
    "#     yi: b-by-1 matrix\n",
    "#     lam: scalar, the regularization parameter\n",
    "#     b: integer, the batch size\n",
    "# Return:\n",
    "#     obj: scalar, the objective Q_i\n",
    "#     g: d-by-1 matrix, gradient of Q_i\n",
    "def mb_stochastic_objective_gradient(w, xi, yi, lam, b):\n",
    "    # Fill the function\n",
    "    # Follow the implementation of stochastic_objective_gradient\n",
    "    # Use matrix-vector multiplication; do not use FOR LOOP of vector-vector multiplications\n",
    "    d = xi.shape[1] # features\n",
    "    yx = numpy.multiply(yi, xi) # b-by-d matrix (broadcasting)\n",
    "    yxw = numpy.dot(yx, w) # b-by-1 matrix\n",
    "    vec1 = numpy.log(1 + numpy.exp(-yxw)) # b-by-1 matrix\n",
    "    \n",
    "    # calculate objective function Q_I\n",
    "    loss = numpy.mean(vec1) # scalar\n",
    "    reg = lam / 2 * numpy.sum(w * w) # scalar\n",
    "    obj = loss + reg\n",
    "    \n",
    "    # calculate the gradient of Q_I\n",
    "    vec2 = numpy.divide(yx, 1+numpy.exp(yxw)) # b-by-d matrix\n",
    "    g_loss = -numpy.mean(vec2, axis=0).reshape(d, 1) # d-by-1 matrix\n",
    "    g = g_loss + lam * w # d-by-1 matrix  \n",
    "      \n",
    "    return obj, g"
   ]
  },
  {
   "cell_type": "markdown",
   "metadata": {},
   "source": [
    "## 6.2. Implement mini-batch SGD\n",
    "\n",
    "Hints:\n",
    "1. In every epoch, randomly permute the $n$ samples (just like SGD).\n",
    "2. Each epoch has $\\frac{n}{b}$ iterations. In every iteration, use $b$ samples, and compute the gradient and objective using the ``mb_stochastic_objective_gradient`` function. In the next iteration, use the next $b$ samples, and so on.\n"
   ]
  },
  {
   "cell_type": "code",
   "execution_count": 18,
   "metadata": {},
   "outputs": [],
   "source": [
    "# Mini-Batch SGD for solving logistic regression\n",
    "# Inputs:\n",
    "#     x: n-by-d matrix\n",
    "#     y: n-by-1 matrix\n",
    "#     lam: scalar, the regularization parameter\n",
    "#     b: integer, the batch size\n",
    "#     stepsize: scalar\n",
    "#     max_epoch: integer, the maximal epochs\n",
    "#     w: d-by-1 matrix, initialization of w\n",
    "# Return:\n",
    "#     w: the solution\n",
    "#     objvals: record of each iteration's objective value\n",
    "def mb_sgd(x, y, lam, b, stepsize, max_epoch=100, w=None):\n",
    "    # Fill the function\n",
    "    # Follow the implementation of sgd\n",
    "    # Record one objective value per epoch (not per iteration!)\n",
    "    ...\n",
    "    n, d = x.shape\n",
    "    objvals = numpy.zeros(max_epoch) # store the objective values\n",
    "    if w is None:\n",
    "        w = numpy.zeros((d, 1)) # zero initialization\n",
    "    \n",
    "    for t in range(max_epoch):\n",
    "        \n",
    "        # randomly shuffle the samples\n",
    "        rand_indices = numpy.random.permutation(n)\n",
    "        x_rand = x[rand_indices, :]\n",
    "        y_rand = y[rand_indices, :]\n",
    "        \n",
    "        objval = 0 # accumulate the objective values\n",
    "                \n",
    "        for i in range(int(n/b)):\n",
    "                xi = x_rand[i*b:i*b+b, :] # b-by-d matrix\n",
    "                yi = y_rand[i*b:i*b+b, :] # b-by-1 matrix\n",
    "                obj, g = mb_stochastic_objective_gradient(w, xi, yi, lam, b) \n",
    "                objval += obj\n",
    "                w -= stepsize * g\n",
    "\n",
    "        stepsize *= 0.9 # decrease step size\n",
    "        objval /= int(n/b)\n",
    "        objvals[t] = objval\n",
    "        print('Objective value at epoch t=' + str(t) + ' is ' + str(objval))\n",
    "    \n",
    "    return w, objvals"
   ]
  },
  {
   "cell_type": "markdown",
   "metadata": {},
   "source": [
    "## 6.3. Run MB-SGD"
   ]
  },
  {
   "cell_type": "code",
   "execution_count": 19,
   "metadata": {},
   "outputs": [
    {
     "name": "stdout",
     "output_type": "stream",
     "text": [
      "Objective value at epoch t=0 is 0.5159566503310493\n",
      "Objective value at epoch t=1 is 0.4767815340735731\n",
      "Objective value at epoch t=2 is 0.4732923238334144\n",
      "Objective value at epoch t=3 is 0.4718698955649546\n",
      "Objective value at epoch t=4 is 0.47018776758705655\n",
      "Objective value at epoch t=5 is 0.46782879760642526\n",
      "Objective value at epoch t=6 is 0.4690978756063219\n",
      "Objective value at epoch t=7 is 0.4677372747517297\n",
      "Objective value at epoch t=8 is 0.46654204552775724\n",
      "Objective value at epoch t=9 is 0.46570768588245154\n",
      "Objective value at epoch t=10 is 0.46461427232958175\n",
      "Objective value at epoch t=11 is 0.4644822297452832\n",
      "Objective value at epoch t=12 is 0.46386844940780164\n",
      "Objective value at epoch t=13 is 0.4639336220085597\n",
      "Objective value at epoch t=14 is 0.4635992853622173\n",
      "Objective value at epoch t=15 is 0.4629285856458415\n",
      "Objective value at epoch t=16 is 0.4624584245515835\n",
      "Objective value at epoch t=17 is 0.46272214301153597\n",
      "Objective value at epoch t=18 is 0.4623180599689299\n",
      "Objective value at epoch t=19 is 0.46188311863868814\n",
      "Objective value at epoch t=20 is 0.4619499985395527\n",
      "Objective value at epoch t=21 is 0.46155205321384496\n",
      "Objective value at epoch t=22 is 0.46131547972914017\n",
      "Objective value at epoch t=23 is 0.4612234683700166\n",
      "Objective value at epoch t=24 is 0.4608188588614338\n",
      "Objective value at epoch t=25 is 0.46082891902841905\n",
      "Objective value at epoch t=26 is 0.4605910243685485\n",
      "Objective value at epoch t=27 is 0.46061482961813305\n",
      "Objective value at epoch t=28 is 0.46052131977531596\n",
      "Objective value at epoch t=29 is 0.4603427107532916\n",
      "Objective value at epoch t=30 is 0.4603153628607667\n",
      "Objective value at epoch t=31 is 0.460204709031625\n",
      "Objective value at epoch t=32 is 0.4601672766845247\n",
      "Objective value at epoch t=33 is 0.4600477407281615\n",
      "Objective value at epoch t=34 is 0.46009097230004353\n",
      "Objective value at epoch t=35 is 0.46000498306794835\n",
      "Objective value at epoch t=36 is 0.4599889459984633\n",
      "Objective value at epoch t=37 is 0.4598956180736205\n",
      "Objective value at epoch t=38 is 0.45986443331147087\n",
      "Objective value at epoch t=39 is 0.4598156638559435\n",
      "Objective value at epoch t=40 is 0.4598321220487998\n",
      "Objective value at epoch t=41 is 0.459782663732444\n",
      "Objective value at epoch t=42 is 0.45974462425881485\n",
      "Objective value at epoch t=43 is 0.4597577715076028\n",
      "Objective value at epoch t=44 is 0.45973294669580544\n",
      "Objective value at epoch t=45 is 0.4597166075338327\n",
      "Objective value at epoch t=46 is 0.45969555764594466\n",
      "Objective value at epoch t=47 is 0.45967289214019\n",
      "Objective value at epoch t=48 is 0.45967133437300134\n",
      "Objective value at epoch t=49 is 0.45965229348922654\n",
      "Objective value at epoch t=50 is 0.4596445119196802\n",
      "Objective value at epoch t=51 is 0.45963426449915123\n",
      "Objective value at epoch t=52 is 0.4596290434498319\n",
      "Objective value at epoch t=53 is 0.4596199609583578\n",
      "Objective value at epoch t=54 is 0.45961151738186123\n",
      "Objective value at epoch t=55 is 0.45960840664351804\n",
      "Objective value at epoch t=56 is 0.45960074472644796\n",
      "Objective value at epoch t=57 is 0.4596046087295832\n",
      "Objective value at epoch t=58 is 0.4595907780316367\n",
      "Objective value at epoch t=59 is 0.4595862015368736\n",
      "Objective value at epoch t=60 is 0.4595881888347929\n",
      "Objective value at epoch t=61 is 0.4595869582211862\n",
      "Objective value at epoch t=62 is 0.459576851243827\n",
      "Objective value at epoch t=63 is 0.45957599408351485\n",
      "Objective value at epoch t=64 is 0.45957286795172847\n",
      "Objective value at epoch t=65 is 0.45957124255246057\n",
      "Objective value at epoch t=66 is 0.45956951322132394\n",
      "Objective value at epoch t=67 is 0.45956968774882767\n",
      "Objective value at epoch t=68 is 0.45956587060966464\n",
      "Objective value at epoch t=69 is 0.4595656182147264\n",
      "Objective value at epoch t=70 is 0.45956462524922914\n",
      "Objective value at epoch t=71 is 0.4595635834598726\n",
      "Objective value at epoch t=72 is 0.4595619085881495\n",
      "Objective value at epoch t=73 is 0.45956091325978743\n",
      "Objective value at epoch t=74 is 0.45956059508537495\n",
      "Objective value at epoch t=75 is 0.45956004527898076\n",
      "Objective value at epoch t=76 is 0.4595585244729638\n",
      "Objective value at epoch t=77 is 0.45955828944426297\n",
      "Objective value at epoch t=78 is 0.45955800162722565\n",
      "Objective value at epoch t=79 is 0.4595570117176953\n",
      "Objective value at epoch t=80 is 0.4595570987528851\n",
      "Objective value at epoch t=81 is 0.45955604980563125\n",
      "Objective value at epoch t=82 is 0.45955623675986157\n",
      "Objective value at epoch t=83 is 0.4595556354009833\n",
      "Objective value at epoch t=84 is 0.45955545112332763\n",
      "Objective value at epoch t=85 is 0.4595552280826508\n",
      "Objective value at epoch t=86 is 0.45955497256341016\n",
      "Objective value at epoch t=87 is 0.4595547671903595\n",
      "Objective value at epoch t=88 is 0.4595546763071262\n",
      "Objective value at epoch t=89 is 0.4595545600747165\n",
      "Objective value at epoch t=90 is 0.45955429965342587\n",
      "Objective value at epoch t=91 is 0.45955408478754656\n",
      "Objective value at epoch t=92 is 0.4595539258349536\n",
      "Objective value at epoch t=93 is 0.45955391345843377\n",
      "Objective value at epoch t=94 is 0.4595537016909522\n",
      "Objective value at epoch t=95 is 0.4595536964801796\n",
      "Objective value at epoch t=96 is 0.459553642750682\n",
      "Objective value at epoch t=97 is 0.4595535303089549\n",
      "Objective value at epoch t=98 is 0.45955347592396567\n",
      "Objective value at epoch t=99 is 0.4595534308499457\n"
     ]
    }
   ],
   "source": [
    "# MB-SGD with batch size b=8\n",
    "lam = 1E-6 # do not change\n",
    "b = 8 # do not change\n",
    "stepsize = 0.2 # the value after tuned\n",
    "\n",
    "w, objvals_mbsgd8 = mb_sgd(x_train, y_train, lam, b, stepsize)"
   ]
  },
  {
   "cell_type": "code",
   "execution_count": 20,
   "metadata": {},
   "outputs": [
    {
     "name": "stdout",
     "output_type": "stream",
     "text": [
      "Objective value at epoch t=0 is 0.5508064065624574\n",
      "Objective value at epoch t=1 is 0.48335197506165173\n",
      "Objective value at epoch t=2 is 0.47168951854249475\n",
      "Objective value at epoch t=3 is 0.4686160466011204\n",
      "Objective value at epoch t=4 is 0.4643984027283204\n",
      "Objective value at epoch t=5 is 0.4639832814046475\n",
      "Objective value at epoch t=6 is 0.46305514689359006\n",
      "Objective value at epoch t=7 is 0.4623550334117329\n",
      "Objective value at epoch t=8 is 0.46248344344059833\n",
      "Objective value at epoch t=9 is 0.462799993632232\n",
      "Objective value at epoch t=10 is 0.46168685144688143\n",
      "Objective value at epoch t=11 is 0.46150802797048585\n",
      "Objective value at epoch t=12 is 0.461472461321231\n",
      "Objective value at epoch t=13 is 0.46102391169445917\n",
      "Objective value at epoch t=14 is 0.46113765436600174\n",
      "Objective value at epoch t=15 is 0.4607653756638088\n",
      "Objective value at epoch t=16 is 0.4606228698888821\n",
      "Objective value at epoch t=17 is 0.46069122475836516\n",
      "Objective value at epoch t=18 is 0.46091845601514325\n",
      "Objective value at epoch t=19 is 0.4604925438087582\n",
      "Objective value at epoch t=20 is 0.46044815210156465\n",
      "Objective value at epoch t=21 is 0.4603783465358121\n",
      "Objective value at epoch t=22 is 0.46062394247422356\n",
      "Objective value at epoch t=23 is 0.46022408578456775\n",
      "Objective value at epoch t=24 is 0.46022247143620376\n",
      "Objective value at epoch t=25 is 0.4600153814916932\n",
      "Objective value at epoch t=26 is 0.46006669266789524\n",
      "Objective value at epoch t=27 is 0.4601353082759159\n",
      "Objective value at epoch t=28 is 0.45977663969988625\n",
      "Objective value at epoch t=29 is 0.45994818139712945\n",
      "Objective value at epoch t=30 is 0.4598699610869743\n",
      "Objective value at epoch t=31 is 0.45983481093062667\n",
      "Objective value at epoch t=32 is 0.4598401949141939\n",
      "Objective value at epoch t=33 is 0.4597978539289813\n",
      "Objective value at epoch t=34 is 0.45968049770321784\n",
      "Objective value at epoch t=35 is 0.45974927091393836\n",
      "Objective value at epoch t=36 is 0.4597092188705788\n",
      "Objective value at epoch t=37 is 0.45970122255581947\n",
      "Objective value at epoch t=38 is 0.45973285097635275\n",
      "Objective value at epoch t=39 is 0.45968249886651524\n",
      "Objective value at epoch t=40 is 0.45966718483435204\n",
      "Objective value at epoch t=41 is 0.4596658796979649\n",
      "Objective value at epoch t=42 is 0.4596405525668029\n",
      "Objective value at epoch t=43 is 0.4596435523130517\n",
      "Objective value at epoch t=44 is 0.4596381462685947\n",
      "Objective value at epoch t=45 is 0.4596349175626683\n",
      "Objective value at epoch t=46 is 0.4596180920226075\n",
      "Objective value at epoch t=47 is 0.4596051975213255\n",
      "Objective value at epoch t=48 is 0.45960764234521284\n",
      "Objective value at epoch t=49 is 0.459597225611308\n",
      "Objective value at epoch t=50 is 0.45959977909944183\n",
      "Objective value at epoch t=51 is 0.4595887973243774\n",
      "Objective value at epoch t=52 is 0.4595845252476435\n",
      "Objective value at epoch t=53 is 0.4595837325860356\n",
      "Objective value at epoch t=54 is 0.45958113636884174\n",
      "Objective value at epoch t=55 is 0.45956837882149026\n",
      "Objective value at epoch t=56 is 0.4595705100407573\n",
      "Objective value at epoch t=57 is 0.45957814733831964\n",
      "Objective value at epoch t=58 is 0.4595779649792314\n",
      "Objective value at epoch t=59 is 0.4595688241611316\n",
      "Objective value at epoch t=60 is 0.45956910167479864\n",
      "Objective value at epoch t=61 is 0.45956810351360106\n",
      "Objective value at epoch t=62 is 0.4595683501740707\n",
      "Objective value at epoch t=63 is 0.4595652599838528\n",
      "Objective value at epoch t=64 is 0.45956559909691813\n",
      "Objective value at epoch t=65 is 0.45956472111474733\n",
      "Objective value at epoch t=66 is 0.4595642778493799\n",
      "Objective value at epoch t=67 is 0.4595638528194252\n",
      "Objective value at epoch t=68 is 0.45956317738288677\n",
      "Objective value at epoch t=69 is 0.4595640786326755\n",
      "Objective value at epoch t=70 is 0.4595615684920709\n",
      "Objective value at epoch t=71 is 0.4595601893844835\n",
      "Objective value at epoch t=72 is 0.45955971060406037\n",
      "Objective value at epoch t=73 is 0.4595598468233244\n",
      "Objective value at epoch t=74 is 0.45956043646272837\n",
      "Objective value at epoch t=75 is 0.45955988263745\n",
      "Objective value at epoch t=76 is 0.45955931010089535\n",
      "Objective value at epoch t=77 is 0.45955884808107\n",
      "Objective value at epoch t=78 is 0.45955882518427293\n",
      "Objective value at epoch t=79 is 0.459558538103246\n",
      "Objective value at epoch t=80 is 0.45955866051379585\n",
      "Objective value at epoch t=81 is 0.4595582882028384\n",
      "Objective value at epoch t=82 is 0.45955817644101715\n",
      "Objective value at epoch t=83 is 0.45955817818188505\n",
      "Objective value at epoch t=84 is 0.4595580652330577\n",
      "Objective value at epoch t=85 is 0.45955773437359915\n",
      "Objective value at epoch t=86 is 0.4595575242941446\n",
      "Objective value at epoch t=87 is 0.45955775396653636\n",
      "Objective value at epoch t=88 is 0.4595574637151956\n",
      "Objective value at epoch t=89 is 0.4595573834076571\n",
      "Objective value at epoch t=90 is 0.4595572482864149\n",
      "Objective value at epoch t=91 is 0.45955724822893307\n",
      "Objective value at epoch t=92 is 0.4595573558055269\n",
      "Objective value at epoch t=93 is 0.4595573488075468\n",
      "Objective value at epoch t=94 is 0.4595571587978278\n",
      "Objective value at epoch t=95 is 0.4595570765688472\n",
      "Objective value at epoch t=96 is 0.45955704415184606\n",
      "Objective value at epoch t=97 is 0.4595570074208548\n",
      "Objective value at epoch t=98 is 0.45955699388585514\n",
      "Objective value at epoch t=99 is 0.45955700195056526\n"
     ]
    }
   ],
   "source": [
    "# MB-SGD with batch size b=64\n",
    "lam = 1E-6 # do not change\n",
    "b = 64 # do not change\n",
    "stepsize = 0.7 # the value after tuned\n",
    "\n",
    "w, objvals_mbsgd64 = mb_sgd(x_train, y_train, lam, b, stepsize)"
   ]
  },
  {
   "cell_type": "markdown",
   "metadata": {},
   "source": [
    "# 7. Plot and compare GD, SGD, and MB-SGD"
   ]
  },
  {
   "cell_type": "markdown",
   "metadata": {},
   "source": [
    "You are required to compare the following algorithms:\n",
    "\n",
    "- Gradient descent (GD)\n",
    "\n",
    "- SGD\n",
    "\n",
    "- MB-SGD with b=8\n",
    "\n",
    "- MB-SGD with b=64\n",
    "\n",
    "Follow the code in Section 4 to plot ```objective function value``` against ```epochs```. There should be four curves in the plot; each curve corresponds to one algorithm."
   ]
  },
  {
   "cell_type": "markdown",
   "metadata": {},
   "source": [
    "Hint: Logistic regression with $\\ell_2$-norm regularization is a strongly convex optimization problem. All the algorithms will converge to the same solution. **In the end, the ``objective function value`` of the 4 algorithms will be the same. If not the same, your implementation must be wrong. Do NOT submit wrong code and wrong result!**"
   ]
  },
  {
   "cell_type": "code",
   "execution_count": 21,
   "metadata": {},
   "outputs": [
    {
     "data": {
      "image/png": "[encoded data removed]",
      "text/plain": [
       "<Figure size 1296x864 with 1 Axes>"
      ]
     },
     "metadata": {
      "needs_background": "light"
     },
     "output_type": "display_data"
    }
   ],
   "source": [
    "# plot the 4 curves:\n",
    "import matplotlib.pyplot as plt\n",
    "%matplotlib inline\n",
    "\n",
    "fig = plt.figure(figsize=(18, 12))\n",
    "\n",
    "epochs_gd = range(len(objvals_gd))\n",
    "epochs_sgd = range(len(objvals_sgd))\n",
    "epochs_mbsgd8 = range(len(objvals_mbsgd8))\n",
    "epochs_mbsgd64 = range(len(objvals_mbsgd64))\n",
    "\n",
    "line0, = plt.plot(epochs_gd, objvals_gd, '--b', LineWidth=1)\n",
    "line1, = plt.plot(epochs_sgd, objvals_sgd, '-r', LineWidth=1)\n",
    "line2, = plt.plot(epochs_mbsgd8, objvals_mbsgd8, '--g', LineWidth=1)\n",
    "line3, = plt.plot(epochs_mbsgd64, objvals_mbsgd64, '--y', LineWidth=1)\n",
    "\n",
    "plt.xlabel('Epochs', FontSize=20)\n",
    "plt.ylabel('Objective Value', FontSize=20)\n",
    "plt.xticks(FontSize=16)\n",
    "plt.yticks(FontSize=16)\n",
    "plt.legend([line0, line1, line2, line3], ['GD', 'SGD','MB-SGD8','MB-SGD64'], fontsize=20)\n",
    "plt.tight_layout()\n",
    "plt.show()\n",
    "fig.savefig('compare_gd_sgd_mbsgd8_mbsgd64.pdf', format='pdf', dpi=1200)"
   ]
  },
  {
   "cell_type": "markdown",
   "metadata": {},
   "source": []
  }
 ],
 "metadata": {
  "kernelspec": {
   "display_name": "Python 3",
   "language": "python",
   "name": "python3"
  },
  "language_info": {
   "codemirror_mode": {
    "name": "ipython",
    "version": 3
   },
   "file_extension": ".py",
   "mimetype": "text/x-python",
   "name": "python",
   "nbconvert_exporter": "python",
   "pygments_lexer": "ipython3",
   "version": "3.7.1"
  }
 },
 "nbformat": 4,
 "nbformat_minor": 2
}
