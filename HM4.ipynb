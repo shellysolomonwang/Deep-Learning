{
 "cells": [
  {
   "cell_type": "markdown",
   "metadata": {
    "colab_type": "text",
    "id": "pJpHZaPivccq"
   },
   "source": [
    "# Home 4: Build a CNN for image recognition.\n",
    "\n",
    "### Name: Tianrui Wang\n"
   ]
  },
  {
   "cell_type": "markdown",
   "metadata": {
    "colab_type": "text",
    "id": "3V3G0k_Uvccs"
   },
   "source": [
    "## 0. You will do the following:\n",
    "\n",
    "1. Read, complete, and run the code.\n",
    "\n",
    "2. **Make substantial improvements** to maximize the accurcy.\n",
    "    \n",
    "3. Convert the .IPYNB file to .HTML file.\n",
    "\n",
    "    * The HTML file must contain the code and the output after execution.\n",
    "    \n",
    "    * Missing **the output after execution** will not be graded.\n",
    "    \n",
    "4. Upload this .HTML file to your Google Drive, Dropbox, or Github repo. (If you submit the file to Google Drive or Dropbox, you must make the file \"open-access\". The delay caused by \"deny of access\" may result in late penalty.)\n",
    "\n",
    "4. Submit the link to this .HTML file to Canvas.\n",
    "\n",
    "    * Example: https://github.com/wangshusen/CS583-2020S/blob/master/homework/HM4/HM4.html\n",
    "\n",
    "\n",
    "## Requirements:\n",
    "\n",
    "1. You can use whatever CNN architecture, including VGG, Inception, and ResNet. However, you must build the networks layer by layer. You must NOT import the archetectures from ```keras.applications```.\n",
    "\n",
    "2. Make sure ```BatchNormalization``` is between a ```Conv```/```Dense``` layer and an ```activation``` layer.\n",
    "\n",
    "3. If you want to regularize a ```Conv```/```Dense``` layer, you should place a ```Dropout``` layer **before** the ```Conv```/```Dense``` layer.\n",
    "\n",
    "4. An accuracy above 70% is considered reasonable. An accuracy above 80% is considered good. Without data augmentation, achieving 80% accuracy is difficult.\n",
    "\n",
    "\n",
    "## Google Colab\n",
    "\n",
    "- If you do not have GPU, the training of a CNN can be slow. Google Colab is a good option.\n",
    "\n",
    "- Keep in mind that you must download it as an IPYNB file and then use IPython Notebook to convert it to HTML.\n",
    "\n",
    "- Also keep in mind that the IPYNB and HTML files must contain the outputs. (Otherwise, the instructor will not be able to know the correctness and performance.) Do the followings to keep the outputs.\n",
    "\n",
    "- In Colab, go to ```Runtime``` --> ```Change runtime type``` --> Do NOT check ```Omit code cell output when saving this notebook```. In this way, the downloaded IPYNB file contains the outputs."
   ]
  },
  {
   "cell_type": "markdown",
   "metadata": {
    "colab_type": "text",
    "id": "pcZbcjXNvcct"
   },
   "source": [
    "## 1. Data preparation"
   ]
  },
  {
   "cell_type": "markdown",
   "metadata": {
    "colab_type": "text",
    "id": "tOMOxq6wvccu"
   },
   "source": [
    "### 1.1. Load data\n"
   ]
  },
  {
   "cell_type": "code",
   "execution_count": 1,
   "metadata": {
    "colab": {
     "base_uri": "https://localhost:8080/",
     "height": 199
    },
    "colab_type": "code",
    "id": "QNV7rb-Svccv",
    "outputId": "201e334a-70fa-4ef4-fc85-2689363ae96c"
   },
   "outputs": [
    {
     "name": "stderr",
     "output_type": "stream",
     "text": [
      "Using TensorFlow backend.\n"
     ]
    },
    {
     "data": {
      "text/html": [
       "<p style=\"color: red;\">\n",
       "The default version of TensorFlow in Colab will soon switch to TensorFlow 2.x.<br>\n",
       "We recommend you <a href=\"https://www.tensorflow.org/guide/migrate\" target=\"_blank\">upgrade</a> now \n",
       "or ensure your notebook will continue to use TensorFlow 1.x via the <code>%tensorflow_version 1.x</code> magic:\n",
       "<a href=\"https://colab.research.google.com/notebooks/tensorflow_version.ipynb\" target=\"_blank\">more info</a>.</p>\n"
      ],
      "text/plain": [
       "<IPython.core.display.HTML object>"
      ]
     },
     "metadata": {
      "tags": []
     },
     "output_type": "display_data"
    },
    {
     "name": "stdout",
     "output_type": "stream",
     "text": [
      "Downloading data from https://www.cs.toronto.edu/~kriz/cifar-10-python.tar.gz\n",
      "170500096/170498071 [==============================] - 4s 0us/step\n",
      "shape of x_train: (50000, 32, 32, 3)\n",
      "shape of y_train: (50000, 1)\n",
      "shape of x_test: (10000, 32, 32, 3)\n",
      "shape of y_test: (10000, 1)\n",
      "number of classes: 10\n"
     ]
    }
   ],
   "source": [
    "from keras.datasets import cifar10\n",
    "import numpy\n",
    "from keras.layers import Conv2D, MaxPooling2D, Flatten, Dense\n",
    "from keras.models import Sequential\n",
    "from keras import optimizers\n",
    "from keras.layers import Dropout\n",
    "from keras.preprocessing.image import ImageDataGenerator\n",
    "\n",
    "(x_train, y_train), (x_test, y_test) = cifar10.load_data()\n",
    "\n",
    "# scaling the data\n",
    "x_train = x_train.astype('float32')\n",
    "x_test = x_test.astype('float32')\n",
    "x_train /= 255\n",
    "x_test /=255\n",
    "\n",
    "print('shape of x_train: ' + str(x_train.shape))\n",
    "print('shape of y_train: ' + str(y_train.shape))\n",
    "print('shape of x_test: ' + str(x_test.shape))\n",
    "print('shape of y_test: ' + str(y_test.shape))\n",
    "print('number of classes: ' + str(numpy.max(y_train) - numpy.min(y_train) + 1))"
   ]
  },
  {
   "cell_type": "markdown",
   "metadata": {
    "colab_type": "text",
    "id": "WGXbVnW7vccy"
   },
   "source": [
    "### 1.2. One-hot encode the labels\n",
    "\n",
    "In the input, a label is a scalar in $\\{0, 1, \\cdots , 9\\}$. One-hot encode transform such a scalar to a $10$-dim vector. E.g., a scalar ```y_train[j]=3``` is transformed to the vector ```y_train_vec[j]=[0, 0, 0, 1, 0, 0, 0, 0, 0, 0]```.\n",
    "\n",
    "1. Define a function ```to_one_hot``` that transforms an $n\\times 1$ array to a $n\\times 10$ matrix.\n",
    "\n",
    "2. Apply the function to ```y_train``` and ```y_test```."
   ]
  },
  {
   "cell_type": "code",
   "execution_count": 2,
   "metadata": {
    "colab": {
     "base_uri": "https://localhost:8080/",
     "height": 85
    },
    "colab_type": "code",
    "id": "J7ZAwPIxvccz",
    "outputId": "7b567512-a6a5-435d-e91b-26ef3f7fffc8"
   },
   "outputs": [
    {
     "name": "stdout",
     "output_type": "stream",
     "text": [
      "Shape of y_train_vec: (50000, 10)\n",
      "Shape of y_test_vec: (10000, 10)\n",
      "[6]\n",
      "[0. 0. 0. 0. 0. 0. 1. 0. 0. 0.]\n"
     ]
    }
   ],
   "source": [
    "def to_one_hot(y, num_class=10):\n",
    "    results = numpy.zeros((len(y), num_class))\n",
    "    for i, label in enumerate(y):\n",
    "      results[i, label] = 1.\n",
    "    return results\n",
    "\n",
    "y_train_vec = to_one_hot(y_train)\n",
    "y_test_vec = to_one_hot(y_test)\n",
    "\n",
    "print('Shape of y_train_vec: ' + str(y_train_vec.shape))\n",
    "print('Shape of y_test_vec: ' + str(y_test_vec.shape))\n",
    "\n",
    "print(y_train[0])\n",
    "print(y_train_vec[0])"
   ]
  },
  {
   "cell_type": "markdown",
   "metadata": {
    "colab_type": "text",
    "id": "-3Vw2PZXvcc1"
   },
   "source": [
    "#### Remark: the outputs should be\n",
    "* Shape of y_train_vec: (50000, 10)\n",
    "* Shape of y_test_vec: (10000, 10)\n",
    "* [6]\n",
    "* [0. 0. 0. 0. 0. 0. 1. 0. 0. 0.]"
   ]
  },
  {
   "cell_type": "markdown",
   "metadata": {
    "colab_type": "text",
    "id": "5-mr8LVbvcc2"
   },
   "source": [
    "### 1.3. Randomly partition the training set to training and validation sets\n",
    "\n",
    "Randomly partition the 50K training samples to 2 sets:\n",
    "* a training set containing 40K samples\n",
    "* a validation set containing 10K samples\n"
   ]
  },
  {
   "cell_type": "code",
   "execution_count": 3,
   "metadata": {
    "colab": {
     "base_uri": "https://localhost:8080/",
     "height": 85
    },
    "colab_type": "code",
    "id": "O6M-YTsWvcc3",
    "outputId": "0b0f24c1-c449-4fd3-a9c8-fce402b3302c"
   },
   "outputs": [
    {
     "name": "stdout",
     "output_type": "stream",
     "text": [
      "Shape of x_tr: (40000, 32, 32, 3)\n",
      "Shape of y_tr: (40000, 10)\n",
      "Shape of x_val: (10000, 32, 32, 3)\n",
      "Shape of y_val: (10000, 10)\n"
     ]
    }
   ],
   "source": [
    "rand_indices = numpy.random.permutation(50000)\n",
    "train_indices = rand_indices[0:40000]\n",
    "valid_indices = rand_indices[40000:50000]\n",
    "\n",
    "x_val = x_train[valid_indices, :]\n",
    "y_val = y_train_vec[valid_indices, :]\n",
    "\n",
    "x_tr = x_train[train_indices, :]\n",
    "y_tr = y_train_vec[train_indices, :]\n",
    "\n",
    "print('Shape of x_tr: ' + str(x_tr.shape))\n",
    "print('Shape of y_tr: ' + str(y_tr.shape))\n",
    "print('Shape of x_val: ' + str(x_val.shape))\n",
    "print('Shape of y_val: ' + str(y_val.shape))"
   ]
  },
  {
   "cell_type": "markdown",
   "metadata": {
    "colab_type": "text",
    "id": "Hss3s4QIvcc6"
   },
   "source": [
    "## 2. Build a CNN and tune its hyper-parameters\n",
    "\n",
    "1. Build a convolutional neural network model\n",
    "2. Use the validation data to tune the hyper-parameters (e.g., network structure, and optimization algorithm)\n",
    "    * Do NOT use test data for hyper-parameter tuning!!!\n",
    "3. Try to achieve a validation accuracy as high as possible."
   ]
  },
  {
   "cell_type": "markdown",
   "metadata": {
    "colab_type": "text",
    "id": "E0B6rnHUvcc6"
   },
   "source": [
    "### Remark: \n",
    "\n",
    "The following CNN is just an example. You are supposed to make **substantial improvements** such as:\n",
    "* Add more layers.\n",
    "* Use regularizations, e.g., dropout.\n",
    "* Use batch normalization."
   ]
  },
  {
   "cell_type": "code",
   "execution_count": 8,
   "metadata": {
    "colab": {
     "base_uri": "https://localhost:8080/",
     "height": 1000
    },
    "colab_type": "code",
    "id": "Az7LXLN7bx7n",
    "outputId": "00e61f5b-e281-4ed0-d820-bdebece16533"
   },
   "outputs": [
    {
     "name": "stdout",
     "output_type": "stream",
     "text": [
      "WARNING:tensorflow:From /usr/local/lib/python3.6/dist-packages/keras/backend/tensorflow_backend.py:148: The name tf.placeholder_with_default is deprecated. Please use tf.compat.v1.placeholder_with_default instead.\n",
      "\n",
      "WARNING:tensorflow:From /usr/local/lib/python3.6/dist-packages/keras/backend/tensorflow_backend.py:3733: calling dropout (from tensorflow.python.ops.nn_ops) with keep_prob is deprecated and will be removed in a future version.\n",
      "Instructions for updating:\n",
      "Please use `rate` instead of `keep_prob`. Rate should be set to `rate = 1 - keep_prob`.\n",
      "Epoch 1/100\n",
      "1250/1250 [==============================] - 30s 24ms/step - loss: 2.2109 - acc: 0.1661 - val_loss: 2.0276 - val_acc: 0.2608\n",
      "Epoch 2/100\n",
      "1250/1250 [==============================] - 29s 23ms/step - loss: 1.9557 - acc: 0.2738 - val_loss: 1.8048 - val_acc: 0.3541\n",
      "Epoch 3/100\n",
      "1250/1250 [==============================] - 29s 23ms/step - loss: 1.7844 - acc: 0.3433 - val_loss: 1.6465 - val_acc: 0.3999\n",
      "Epoch 4/100\n",
      "1250/1250 [==============================] - 29s 23ms/step - loss: 1.6727 - acc: 0.3879 - val_loss: 1.4973 - val_acc: 0.4566\n",
      "Epoch 5/100\n",
      "1250/1250 [==============================] - 29s 23ms/step - loss: 1.5867 - acc: 0.4196 - val_loss: 1.4500 - val_acc: 0.4677\n",
      "Epoch 6/100\n",
      "1250/1250 [==============================] - 29s 24ms/step - loss: 1.5119 - acc: 0.4490 - val_loss: 1.3804 - val_acc: 0.5009\n",
      "Epoch 7/100\n",
      "1250/1250 [==============================] - 29s 23ms/step - loss: 1.4534 - acc: 0.4696 - val_loss: 1.3297 - val_acc: 0.5182\n",
      "Epoch 8/100\n",
      "1250/1250 [==============================] - 30s 24ms/step - loss: 1.4017 - acc: 0.4946 - val_loss: 1.3066 - val_acc: 0.5309\n",
      "Epoch 9/100\n",
      "1250/1250 [==============================] - 29s 23ms/step - loss: 1.3557 - acc: 0.5141 - val_loss: 1.2199 - val_acc: 0.5598\n",
      "Epoch 10/100\n",
      "1250/1250 [==============================] - 29s 23ms/step - loss: 1.3069 - acc: 0.5305 - val_loss: 1.1848 - val_acc: 0.5739\n",
      "Epoch 11/100\n",
      "1250/1250 [==============================] - 29s 23ms/step - loss: 1.2613 - acc: 0.5472 - val_loss: 1.2093 - val_acc: 0.5715\n",
      "Epoch 12/100\n",
      "1250/1250 [==============================] - 29s 23ms/step - loss: 1.2174 - acc: 0.5651 - val_loss: 1.0933 - val_acc: 0.6039\n",
      "Epoch 13/100\n",
      "1250/1250 [==============================] - 29s 23ms/step - loss: 1.1756 - acc: 0.5799 - val_loss: 1.0192 - val_acc: 0.6348\n",
      "Epoch 14/100\n",
      "1250/1250 [==============================] - 29s 23ms/step - loss: 1.1415 - acc: 0.5921 - val_loss: 1.0452 - val_acc: 0.6249\n",
      "Epoch 15/100\n",
      "1250/1250 [==============================] - 29s 23ms/step - loss: 1.1132 - acc: 0.6045 - val_loss: 1.0134 - val_acc: 0.6337\n",
      "Epoch 16/100\n",
      "1250/1250 [==============================] - 29s 23ms/step - loss: 1.0763 - acc: 0.6162 - val_loss: 0.9400 - val_acc: 0.6628\n",
      "Epoch 17/100\n",
      "1250/1250 [==============================] - 28s 23ms/step - loss: 1.0479 - acc: 0.6279 - val_loss: 0.8841 - val_acc: 0.6836\n",
      "Epoch 18/100\n",
      "1250/1250 [==============================] - 28s 22ms/step - loss: 1.0239 - acc: 0.6361 - val_loss: 0.9902 - val_acc: 0.6489\n",
      "Epoch 19/100\n",
      "1250/1250 [==============================] - 28s 23ms/step - loss: 0.9976 - acc: 0.6479 - val_loss: 0.9460 - val_acc: 0.6657\n",
      "Epoch 20/100\n",
      "1250/1250 [==============================] - 29s 23ms/step - loss: 0.9720 - acc: 0.6549 - val_loss: 0.8436 - val_acc: 0.6924\n",
      "Epoch 21/100\n",
      "1250/1250 [==============================] - 28s 23ms/step - loss: 0.9479 - acc: 0.6665 - val_loss: 0.8278 - val_acc: 0.7010\n",
      "Epoch 22/100\n",
      "1250/1250 [==============================] - 28s 23ms/step - loss: 0.9249 - acc: 0.6729 - val_loss: 0.7867 - val_acc: 0.7183\n",
      "Epoch 23/100\n",
      "1250/1250 [==============================] - 28s 23ms/step - loss: 0.9038 - acc: 0.6829 - val_loss: 0.7848 - val_acc: 0.7204\n",
      "Epoch 24/100\n",
      "1250/1250 [==============================] - 28s 23ms/step - loss: 0.8818 - acc: 0.6904 - val_loss: 0.7570 - val_acc: 0.7286\n",
      "Epoch 25/100\n",
      "1250/1250 [==============================] - 28s 23ms/step - loss: 0.8555 - acc: 0.6999 - val_loss: 0.7593 - val_acc: 0.7332\n",
      "Epoch 26/100\n",
      "1250/1250 [==============================] - 28s 23ms/step - loss: 0.8395 - acc: 0.7019 - val_loss: 0.7352 - val_acc: 0.7352\n",
      "Epoch 27/100\n",
      "1250/1250 [==============================] - 28s 23ms/step - loss: 0.8248 - acc: 0.7090 - val_loss: 0.7605 - val_acc: 0.7321\n",
      "Epoch 28/100\n",
      "1250/1250 [==============================] - 28s 22ms/step - loss: 0.8087 - acc: 0.7168 - val_loss: 0.7238 - val_acc: 0.7462\n",
      "Epoch 29/100\n",
      "1250/1250 [==============================] - 28s 23ms/step - loss: 0.7926 - acc: 0.7234 - val_loss: 0.6893 - val_acc: 0.7527\n",
      "Epoch 30/100\n",
      "1250/1250 [==============================] - 28s 22ms/step - loss: 0.7782 - acc: 0.7277 - val_loss: 0.6974 - val_acc: 0.7551\n",
      "Epoch 31/100\n",
      "1250/1250 [==============================] - 28s 23ms/step - loss: 0.7672 - acc: 0.7315 - val_loss: 0.7016 - val_acc: 0.7516\n",
      "Epoch 32/100\n",
      "1250/1250 [==============================] - 28s 23ms/step - loss: 0.7476 - acc: 0.7375 - val_loss: 0.6598 - val_acc: 0.7680\n",
      "Epoch 33/100\n",
      "1250/1250 [==============================] - 28s 23ms/step - loss: 0.7379 - acc: 0.7434 - val_loss: 0.6499 - val_acc: 0.7671\n",
      "Epoch 34/100\n",
      "1250/1250 [==============================] - 28s 23ms/step - loss: 0.7245 - acc: 0.7476 - val_loss: 0.5973 - val_acc: 0.7841\n",
      "Epoch 35/100\n",
      "1250/1250 [==============================] - 28s 23ms/step - loss: 0.7198 - acc: 0.7499 - val_loss: 0.6675 - val_acc: 0.7623\n",
      "Epoch 36/100\n",
      "1250/1250 [==============================] - 28s 22ms/step - loss: 0.7028 - acc: 0.7549 - val_loss: 0.5931 - val_acc: 0.7888\n",
      "Epoch 37/100\n",
      "1250/1250 [==============================] - 28s 23ms/step - loss: 0.6954 - acc: 0.7579 - val_loss: 0.6170 - val_acc: 0.7833\n",
      "Epoch 38/100\n",
      "1250/1250 [==============================] - 28s 22ms/step - loss: 0.6851 - acc: 0.7603 - val_loss: 0.5777 - val_acc: 0.7938\n",
      "Epoch 39/100\n",
      "1250/1250 [==============================] - 28s 22ms/step - loss: 0.6757 - acc: 0.7653 - val_loss: 0.6161 - val_acc: 0.7857\n",
      "Epoch 40/100\n",
      "1250/1250 [==============================] - 28s 22ms/step - loss: 0.6670 - acc: 0.7660 - val_loss: 0.5874 - val_acc: 0.7918\n",
      "Epoch 41/100\n",
      "1250/1250 [==============================] - 27s 22ms/step - loss: 0.6560 - acc: 0.7703 - val_loss: 0.5723 - val_acc: 0.7969\n",
      "Epoch 42/100\n",
      "1250/1250 [==============================] - 28s 22ms/step - loss: 0.6514 - acc: 0.7722 - val_loss: 0.5756 - val_acc: 0.7985\n",
      "Epoch 43/100\n",
      "1250/1250 [==============================] - 28s 22ms/step - loss: 0.6412 - acc: 0.7767 - val_loss: 0.5680 - val_acc: 0.8003\n",
      "Epoch 44/100\n",
      "1250/1250 [==============================] - 28s 22ms/step - loss: 0.6315 - acc: 0.7804 - val_loss: 0.5627 - val_acc: 0.8037\n",
      "Epoch 45/100\n",
      "1250/1250 [==============================] - 27s 22ms/step - loss: 0.6197 - acc: 0.7871 - val_loss: 0.5557 - val_acc: 0.8014\n",
      "Epoch 46/100\n",
      "1250/1250 [==============================] - 28s 22ms/step - loss: 0.6171 - acc: 0.7848 - val_loss: 0.5504 - val_acc: 0.8074\n",
      "Epoch 47/100\n",
      "1250/1250 [==============================] - 28s 22ms/step - loss: 0.6056 - acc: 0.7915 - val_loss: 0.5377 - val_acc: 0.8099\n",
      "Epoch 48/100\n",
      "1250/1250 [==============================] - 28s 22ms/step - loss: 0.6010 - acc: 0.7883 - val_loss: 0.5610 - val_acc: 0.8071\n",
      "Epoch 49/100\n",
      "1250/1250 [==============================] - 28s 22ms/step - loss: 0.5946 - acc: 0.7920 - val_loss: 0.5555 - val_acc: 0.8089\n",
      "Epoch 50/100\n",
      "1250/1250 [==============================] - 27s 22ms/step - loss: 0.5849 - acc: 0.7977 - val_loss: 0.5675 - val_acc: 0.8058\n",
      "Epoch 51/100\n",
      "1250/1250 [==============================] - 27s 22ms/step - loss: 0.5843 - acc: 0.7964 - val_loss: 0.5639 - val_acc: 0.8054\n",
      "Epoch 52/100\n",
      "1250/1250 [==============================] - 28s 22ms/step - loss: 0.5793 - acc: 0.7984 - val_loss: 0.5212 - val_acc: 0.8167\n",
      "Epoch 53/100\n",
      "1250/1250 [==============================] - 28s 22ms/step - loss: 0.5700 - acc: 0.8025 - val_loss: 0.5447 - val_acc: 0.8099\n",
      "Epoch 54/100\n",
      "1250/1250 [==============================] - 28s 22ms/step - loss: 0.5649 - acc: 0.8032 - val_loss: 0.5046 - val_acc: 0.8219\n",
      "Epoch 55/100\n",
      "1250/1250 [==============================] - 28s 22ms/step - loss: 0.5554 - acc: 0.8084 - val_loss: 0.5575 - val_acc: 0.8063\n",
      "Epoch 56/100\n",
      "1250/1250 [==============================] - 27s 22ms/step - loss: 0.5514 - acc: 0.8077 - val_loss: 0.5409 - val_acc: 0.8170\n",
      "Epoch 57/100\n",
      "1250/1250 [==============================] - 27s 22ms/step - loss: 0.5429 - acc: 0.8097 - val_loss: 0.5391 - val_acc: 0.8122\n",
      "Epoch 58/100\n",
      "1250/1250 [==============================] - 27s 22ms/step - loss: 0.5388 - acc: 0.8122 - val_loss: 0.5109 - val_acc: 0.8186\n",
      "Epoch 59/100\n",
      "1250/1250 [==============================] - 28s 22ms/step - loss: 0.5380 - acc: 0.8138 - val_loss: 0.5015 - val_acc: 0.8256\n",
      "Epoch 60/100\n",
      "1250/1250 [==============================] - 27s 22ms/step - loss: 0.5327 - acc: 0.8152 - val_loss: 0.4899 - val_acc: 0.8276\n",
      "Epoch 61/100\n",
      "1250/1250 [==============================] - 28s 22ms/step - loss: 0.5291 - acc: 0.8129 - val_loss: 0.5031 - val_acc: 0.8264\n",
      "Epoch 62/100\n",
      "1250/1250 [==============================] - 27s 22ms/step - loss: 0.5239 - acc: 0.8208 - val_loss: 0.4940 - val_acc: 0.8265\n",
      "Epoch 63/100\n",
      "1250/1250 [==============================] - 27s 22ms/step - loss: 0.5152 - acc: 0.8218 - val_loss: 0.5225 - val_acc: 0.8196\n",
      "Epoch 64/100\n",
      "1250/1250 [==============================] - 27s 22ms/step - loss: 0.5099 - acc: 0.8217 - val_loss: 0.5196 - val_acc: 0.8232\n",
      "Epoch 65/100\n",
      "1250/1250 [==============================] - 27s 22ms/step - loss: 0.5049 - acc: 0.8228 - val_loss: 0.4979 - val_acc: 0.8269\n",
      "Epoch 66/100\n",
      "1250/1250 [==============================] - 28s 22ms/step - loss: 0.5046 - acc: 0.8237 - val_loss: 0.4615 - val_acc: 0.8378\n",
      "Epoch 67/100\n",
      "1250/1250 [==============================] - 27s 22ms/step - loss: 0.4997 - acc: 0.8272 - val_loss: 0.5597 - val_acc: 0.8151\n",
      "Epoch 68/100\n",
      "1250/1250 [==============================] - 27s 22ms/step - loss: 0.4939 - acc: 0.8294 - val_loss: 0.4907 - val_acc: 0.8315\n",
      "Epoch 69/100\n",
      "1250/1250 [==============================] - 27s 22ms/step - loss: 0.4910 - acc: 0.8286 - val_loss: 0.4800 - val_acc: 0.8338\n",
      "Epoch 70/100\n",
      "1250/1250 [==============================] - 28s 22ms/step - loss: 0.4876 - acc: 0.8301 - val_loss: 0.4924 - val_acc: 0.8319\n",
      "Epoch 71/100\n",
      "1250/1250 [==============================] - 28s 22ms/step - loss: 0.4865 - acc: 0.8308 - val_loss: 0.4904 - val_acc: 0.8308\n",
      "Epoch 72/100\n",
      "1250/1250 [==============================] - 28s 22ms/step - loss: 0.4789 - acc: 0.8348 - val_loss: 0.4949 - val_acc: 0.8313\n",
      "Epoch 73/100\n",
      "1250/1250 [==============================] - 27s 22ms/step - loss: 0.4820 - acc: 0.8321 - val_loss: 0.4499 - val_acc: 0.8444\n",
      "Epoch 74/100\n",
      "1250/1250 [==============================] - 28s 22ms/step - loss: 0.4731 - acc: 0.8360 - val_loss: 0.4758 - val_acc: 0.8390\n",
      "Epoch 75/100\n",
      "1250/1250 [==============================] - 27s 22ms/step - loss: 0.4667 - acc: 0.8380 - val_loss: 0.4906 - val_acc: 0.8351\n",
      "Epoch 76/100\n",
      "1250/1250 [==============================] - 28s 22ms/step - loss: 0.4651 - acc: 0.8379 - val_loss: 0.4587 - val_acc: 0.8403\n",
      "Epoch 77/100\n",
      "1250/1250 [==============================] - 28s 22ms/step - loss: 0.4650 - acc: 0.8361 - val_loss: 0.4564 - val_acc: 0.8413\n",
      "Epoch 78/100\n",
      "1250/1250 [==============================] - 27s 22ms/step - loss: 0.4571 - acc: 0.8397 - val_loss: 0.4601 - val_acc: 0.8394\n",
      "Epoch 79/100\n",
      "1250/1250 [==============================] - 27s 22ms/step - loss: 0.4526 - acc: 0.8424 - val_loss: 0.4722 - val_acc: 0.8426\n",
      "Epoch 80/100\n",
      "1250/1250 [==============================] - 27s 22ms/step - loss: 0.4506 - acc: 0.8422 - val_loss: 0.4574 - val_acc: 0.8461\n",
      "Epoch 81/100\n",
      "1250/1250 [==============================] - 28s 22ms/step - loss: 0.4479 - acc: 0.8427 - val_loss: 0.4803 - val_acc: 0.8403\n",
      "Epoch 82/100\n",
      "1250/1250 [==============================] - 27s 22ms/step - loss: 0.4455 - acc: 0.8439 - val_loss: 0.5034 - val_acc: 0.8344\n",
      "Epoch 83/100\n",
      "1250/1250 [==============================] - 28s 22ms/step - loss: 0.4440 - acc: 0.8442 - val_loss: 0.4749 - val_acc: 0.8401\n",
      "Epoch 84/100\n",
      "1250/1250 [==============================] - 28s 22ms/step - loss: 0.4347 - acc: 0.8460 - val_loss: 0.4547 - val_acc: 0.8480\n",
      "Epoch 85/100\n",
      "1250/1250 [==============================] - 28s 22ms/step - loss: 0.4371 - acc: 0.8478 - val_loss: 0.4603 - val_acc: 0.8417\n",
      "Epoch 86/100\n",
      "1250/1250 [==============================] - 28s 22ms/step - loss: 0.4320 - acc: 0.8466 - val_loss: 0.4548 - val_acc: 0.8457\n",
      "Epoch 87/100\n",
      "1250/1250 [==============================] - 28s 22ms/step - loss: 0.4298 - acc: 0.8480 - val_loss: 0.4600 - val_acc: 0.8442\n",
      "Epoch 88/100\n",
      "1250/1250 [==============================] - 28s 22ms/step - loss: 0.4293 - acc: 0.8491 - val_loss: 0.4479 - val_acc: 0.8509\n",
      "Epoch 89/100\n",
      "1250/1250 [==============================] - 27s 22ms/step - loss: 0.4264 - acc: 0.8496 - val_loss: 0.4527 - val_acc: 0.8504\n",
      "Epoch 90/100\n",
      "1250/1250 [==============================] - 27s 22ms/step - loss: 0.4218 - acc: 0.8525 - val_loss: 0.4657 - val_acc: 0.8430\n",
      "Epoch 91/100\n",
      "1250/1250 [==============================] - 27s 22ms/step - loss: 0.4224 - acc: 0.8506 - val_loss: 0.4552 - val_acc: 0.8485\n",
      "Epoch 92/100\n",
      "1250/1250 [==============================] - 28s 22ms/step - loss: 0.4176 - acc: 0.8533 - val_loss: 0.4426 - val_acc: 0.8503\n",
      "Epoch 93/100\n",
      "1250/1250 [==============================] - 27s 22ms/step - loss: 0.4149 - acc: 0.8542 - val_loss: 0.4716 - val_acc: 0.8436\n",
      "Epoch 94/100\n",
      "1250/1250 [==============================] - 28s 22ms/step - loss: 0.4100 - acc: 0.8573 - val_loss: 0.4402 - val_acc: 0.8514\n",
      "Epoch 95/100\n",
      "1250/1250 [==============================] - 27s 22ms/step - loss: 0.4129 - acc: 0.8555 - val_loss: 0.4526 - val_acc: 0.8491\n",
      "Epoch 96/100\n",
      "1250/1250 [==============================] - 27s 22ms/step - loss: 0.4100 - acc: 0.8566 - val_loss: 0.4429 - val_acc: 0.8506\n",
      "Epoch 97/100\n",
      "1250/1250 [==============================] - 27s 22ms/step - loss: 0.4089 - acc: 0.8576 - val_loss: 0.4673 - val_acc: 0.8484\n",
      "Epoch 98/100\n",
      "1250/1250 [==============================] - 28s 22ms/step - loss: 0.4053 - acc: 0.8599 - val_loss: 0.4323 - val_acc: 0.8528\n",
      "Epoch 99/100\n",
      "1250/1250 [==============================] - 28s 22ms/step - loss: 0.3983 - acc: 0.8590 - val_loss: 0.4348 - val_acc: 0.8558\n",
      "Epoch 100/100\n",
      "1250/1250 [==============================] - 28s 22ms/step - loss: 0.3969 - acc: 0.8624 - val_loss: 0.4458 - val_acc: 0.8525\n"
     ]
    }
   ],
   "source": [
    "# network structure\n",
    "from keras.optimizers import SGD\n",
    "\n",
    "model5 = Sequential()\n",
    "model5.add(Conv2D(32, (3, 3), activation='relu', padding='same', input_shape=(32, 32, 3)))\n",
    "model5.add(Conv2D(32, (3, 3), activation='relu', padding='same'))\n",
    "model5.add(MaxPooling2D((2, 2)))\n",
    "model5.add(Dropout(0.2))\n",
    "\n",
    "model5.add(Conv2D(64, (3, 3), activation='relu', padding='same'))\n",
    "model5.add(Conv2D(64, (3, 3), activation='relu', padding='same'))\n",
    "model5.add(MaxPooling2D((2, 2)))\n",
    "model5.add(Dropout(0.2))\n",
    "\n",
    "model5.add(Conv2D(128, (3, 3), activation='relu', padding='same'))\n",
    "model5.add(Conv2D(128, (3, 3), activation='relu', padding='same'))\n",
    "model5.add(MaxPooling2D((2, 2)))\n",
    "model5.add(Dropout(0.2))\n",
    "\n",
    "model5.add(Flatten())\n",
    "model5.add(Dense(128, activation='relu', kernel_initializer='he_uniform'))\n",
    "model5.add(Dropout(0.2))\n",
    "\n",
    "model5.add(Dense(10, activation='softmax'))\n",
    "# compile model\n",
    "opt = SGD(lr=0.001, momentum=0.9)\n",
    "model5.compile(optimizer=opt, loss='categorical_crossentropy', metrics=['accuracy'])\n",
    "# <Train your model on the entire training set (50K samples)>\n",
    "# <Use (x_train, y_train_vec) instead of (x_tr, y_tr)>\n",
    "# <Do NOT use the validation_data option (because now you do not have validation data)>\n",
    "# ...\n",
    "datagen = ImageDataGenerator(\n",
    "    width_shift_range=0.1, \n",
    "    height_shift_range=0.1, \n",
    "    horizontal_flip=True, \n",
    "    fill_mode='nearest')\n",
    "datagen.fit(x_tr)\n",
    "history5 = model5.fit_generator(datagen.flow(x_tr, y_tr, batch_size=32), steps_per_epoch=len(x_tr) / 32, epochs=100, validation_data =(x_val, y_val))"
   ]
  },
  {
   "cell_type": "code",
   "execution_count": 9,
   "metadata": {
    "colab": {
     "base_uri": "https://localhost:8080/",
     "height": 279
    },
    "colab_type": "code",
    "id": "AdSXqjQIvcdO",
    "outputId": "64826fc0-137a-4a67-9772-c4711a5e5af2"
   },
   "outputs": [
    {
     "data": {
      "image/png": "[encoded data removed]",
      "text/plain": [
       "<Figure size 432x288 with 1 Axes>"
      ]
     },
     "metadata": {
      "tags": []
     },
     "output_type": "display_data"
    }
   ],
   "source": [
    "import matplotlib.pyplot as plt\n",
    "%matplotlib inline\n",
    "\n",
    "acc = history5.history['acc']\n",
    "val_acc = history5.history['val_acc']\n",
    "\n",
    "epochs = range(len(acc))\n",
    "\n",
    "plt.plot(epochs, acc, 'b', label='Training acc')\n",
    "plt.plot(epochs, val_acc, 'r', label='Validation acc')\n",
    "plt.xlabel('Epochs')\n",
    "plt.ylabel('Accuracy')\n",
    "plt.legend()\n",
    "plt.show()"
   ]
  },
  {
   "cell_type": "markdown",
   "metadata": {
    "colab_type": "text",
    "id": "gDOpz5oWvcdF"
   },
   "source": [
    "## 3. Train (again) and evaluate the model\n",
    "\n",
    "- To this end, you have found the \"best\" hyper-parameters. \n",
    "- Now, fix the hyper-parameters and train the network on the entire training set (all the 50K training samples)\n",
    "- Evaluate your model on the test set."
   ]
  },
  {
   "cell_type": "markdown",
   "metadata": {
    "colab_type": "text",
    "id": "FLblv49TvcdF"
   },
   "source": [
    "### 3.1. Train the model on the entire training set\n",
    "\n",
    "Why? Previously, you used 40K samples for training; you wasted 10K samples for the sake of hyper-parameter tuning. Now you already know the hyper-parameters, so why not using all the 50K samples for training?"
   ]
  },
  {
   "cell_type": "code",
   "execution_count": 10,
   "metadata": {
    "colab": {
     "base_uri": "https://localhost:8080/",
     "height": 1000
    },
    "colab_type": "code",
    "id": "ZxPdz1lyusqb",
    "outputId": "d9a4130b-0f6f-4342-e3f4-1c6638abbd06"
   },
   "outputs": [
    {
     "name": "stdout",
     "output_type": "stream",
     "text": [
      "Epoch 1/100\n",
      "1563/1562 [==============================] - 35s 23ms/step - loss: 2.1441 - acc: 0.1966\n",
      "Epoch 2/100\n",
      "1563/1562 [==============================] - 35s 22ms/step - loss: 1.8562 - acc: 0.3197\n",
      "Epoch 3/100\n",
      "1563/1562 [==============================] - 35s 22ms/step - loss: 1.6789 - acc: 0.3862\n",
      "Epoch 4/100\n",
      "1563/1562 [==============================] - 35s 23ms/step - loss: 1.5702 - acc: 0.4266\n",
      "Epoch 5/100\n",
      "1563/1562 [==============================] - 35s 23ms/step - loss: 1.4802 - acc: 0.4625\n",
      "Epoch 6/100\n",
      "1563/1562 [==============================] - 35s 22ms/step - loss: 1.4033 - acc: 0.4940\n",
      "Epoch 7/100\n",
      "1563/1562 [==============================] - 34s 22ms/step - loss: 1.3342 - acc: 0.5177\n",
      "Epoch 8/100\n",
      "1563/1562 [==============================] - 34s 22ms/step - loss: 1.2749 - acc: 0.5436\n",
      "Epoch 9/100\n",
      "1563/1562 [==============================] - 34s 22ms/step - loss: 1.2170 - acc: 0.5649\n",
      "Epoch 10/100\n",
      "1563/1562 [==============================] - 35s 22ms/step - loss: 1.1746 - acc: 0.5804\n",
      "Epoch 11/100\n",
      "1563/1562 [==============================] - 34s 22ms/step - loss: 1.1305 - acc: 0.5964\n",
      "Epoch 12/100\n",
      "1563/1562 [==============================] - 34s 22ms/step - loss: 1.0920 - acc: 0.6122\n",
      "Epoch 13/100\n",
      "1563/1562 [==============================] - 34s 22ms/step - loss: 1.0562 - acc: 0.6242\n",
      "Epoch 14/100\n",
      "1563/1562 [==============================] - 34s 22ms/step - loss: 1.0241 - acc: 0.6389\n",
      "Epoch 15/100\n",
      "1563/1562 [==============================] - 34s 22ms/step - loss: 0.9860 - acc: 0.6502\n",
      "Epoch 16/100\n",
      "1563/1562 [==============================] - 34s 22ms/step - loss: 0.9587 - acc: 0.6635\n",
      "Epoch 17/100\n",
      "1563/1562 [==============================] - 34s 21ms/step - loss: 0.9341 - acc: 0.6698\n",
      "Epoch 18/100\n",
      "1563/1562 [==============================] - 34s 22ms/step - loss: 0.9068 - acc: 0.6796\n",
      "Epoch 19/100\n",
      "1563/1562 [==============================] - 34s 22ms/step - loss: 0.8857 - acc: 0.6882\n",
      "Epoch 20/100\n",
      "1563/1562 [==============================] - 34s 22ms/step - loss: 0.8564 - acc: 0.6977\n",
      "Epoch 21/100\n",
      "1563/1562 [==============================] - 34s 22ms/step - loss: 0.8356 - acc: 0.7050\n",
      "Epoch 22/100\n",
      "1563/1562 [==============================] - 33s 21ms/step - loss: 0.8151 - acc: 0.7137\n",
      "Epoch 23/100\n",
      "1563/1562 [==============================] - 33s 21ms/step - loss: 0.7947 - acc: 0.7226\n",
      "Epoch 24/100\n",
      "1563/1562 [==============================] - 34s 22ms/step - loss: 0.7817 - acc: 0.7262\n",
      "Epoch 25/100\n",
      "1563/1562 [==============================] - 34s 22ms/step - loss: 0.7619 - acc: 0.7317\n",
      "Epoch 26/100\n",
      "1563/1562 [==============================] - 33s 21ms/step - loss: 0.7462 - acc: 0.7383\n",
      "Epoch 27/100\n",
      "1563/1562 [==============================] - 33s 21ms/step - loss: 0.7382 - acc: 0.7436\n",
      "Epoch 28/100\n",
      "1563/1562 [==============================] - 34s 22ms/step - loss: 0.7263 - acc: 0.7466\n",
      "Epoch 29/100\n",
      "1563/1562 [==============================] - 34s 22ms/step - loss: 0.7056 - acc: 0.7534\n",
      "Epoch 30/100\n",
      "1563/1562 [==============================] - 34s 22ms/step - loss: 0.6970 - acc: 0.7571\n",
      "Epoch 31/100\n",
      "1563/1562 [==============================] - 34s 22ms/step - loss: 0.6808 - acc: 0.7622\n",
      "Epoch 32/100\n",
      "1563/1562 [==============================] - 34s 22ms/step - loss: 0.6724 - acc: 0.7662\n",
      "Epoch 33/100\n",
      "1563/1562 [==============================] - 34s 22ms/step - loss: 0.6662 - acc: 0.7689\n",
      "Epoch 34/100\n",
      "1563/1562 [==============================] - 34s 22ms/step - loss: 0.6543 - acc: 0.7708\n",
      "Epoch 35/100\n",
      "1563/1562 [==============================] - 34s 22ms/step - loss: 0.6430 - acc: 0.7755\n",
      "Epoch 36/100\n",
      "1563/1562 [==============================] - 34s 22ms/step - loss: 0.6271 - acc: 0.7805\n",
      "Epoch 37/100\n",
      "1563/1562 [==============================] - 33s 21ms/step - loss: 0.6193 - acc: 0.7840\n",
      "Epoch 38/100\n",
      "1563/1562 [==============================] - 34s 22ms/step - loss: 0.6131 - acc: 0.7862\n",
      "Epoch 39/100\n",
      "1563/1562 [==============================] - 34s 22ms/step - loss: 0.6103 - acc: 0.7872\n",
      "Epoch 40/100\n",
      "1563/1562 [==============================] - 33s 21ms/step - loss: 0.6054 - acc: 0.7885\n",
      "Epoch 41/100\n",
      "1563/1562 [==============================] - 34s 21ms/step - loss: 0.5876 - acc: 0.7962\n",
      "Epoch 42/100\n",
      "1563/1562 [==============================] - 34s 22ms/step - loss: 0.5827 - acc: 0.7962\n",
      "Epoch 43/100\n",
      "1563/1562 [==============================] - 34s 22ms/step - loss: 0.5776 - acc: 0.7982\n",
      "Epoch 44/100\n",
      "1563/1562 [==============================] - 34s 21ms/step - loss: 0.5697 - acc: 0.8009\n",
      "Epoch 45/100\n",
      "1563/1562 [==============================] - 34s 22ms/step - loss: 0.5661 - acc: 0.8027\n",
      "Epoch 46/100\n",
      "1563/1562 [==============================] - 34s 22ms/step - loss: 0.5563 - acc: 0.8061\n",
      "Epoch 47/100\n",
      "1563/1562 [==============================] - 34s 22ms/step - loss: 0.5473 - acc: 0.8092\n",
      "Epoch 48/100\n",
      "1563/1562 [==============================] - 34s 22ms/step - loss: 0.5456 - acc: 0.8096\n",
      "Epoch 49/100\n",
      "1563/1562 [==============================] - 33s 21ms/step - loss: 0.5439 - acc: 0.8104\n",
      "Epoch 50/100\n",
      "1563/1562 [==============================] - 34s 22ms/step - loss: 0.5328 - acc: 0.8145\n",
      "Epoch 51/100\n",
      "1563/1562 [==============================] - 34s 22ms/step - loss: 0.5284 - acc: 0.8169\n",
      "Epoch 52/100\n",
      "1563/1562 [==============================] - 33s 21ms/step - loss: 0.5274 - acc: 0.8157\n",
      "Epoch 53/100\n",
      "1563/1562 [==============================] - 33s 21ms/step - loss: 0.5233 - acc: 0.8161\n",
      "Epoch 54/100\n",
      "1563/1562 [==============================] - 36s 23ms/step - loss: 0.5145 - acc: 0.8197\n",
      "Epoch 55/100\n",
      "1563/1562 [==============================] - 33s 21ms/step - loss: 0.5085 - acc: 0.8216\n",
      "Epoch 56/100\n",
      "1563/1562 [==============================] - 33s 21ms/step - loss: 0.5081 - acc: 0.8233\n",
      "Epoch 57/100\n",
      "1563/1562 [==============================] - 34s 22ms/step - loss: 0.4987 - acc: 0.8270\n",
      "Epoch 58/100\n",
      "1563/1562 [==============================] - 33s 21ms/step - loss: 0.4953 - acc: 0.8261\n",
      "Epoch 59/100\n",
      "1563/1562 [==============================] - 34s 22ms/step - loss: 0.4932 - acc: 0.8284\n",
      "Epoch 60/100\n",
      "1563/1562 [==============================] - 33s 21ms/step - loss: 0.4879 - acc: 0.8290\n",
      "Epoch 61/100\n",
      "1563/1562 [==============================] - 34s 22ms/step - loss: 0.4784 - acc: 0.8321\n",
      "Epoch 62/100\n",
      "1563/1562 [==============================] - 34s 22ms/step - loss: 0.4817 - acc: 0.8315\n",
      "Epoch 63/100\n",
      "1563/1562 [==============================] - 33s 21ms/step - loss: 0.4749 - acc: 0.8342\n",
      "Epoch 64/100\n",
      "1563/1562 [==============================] - 34s 21ms/step - loss: 0.4759 - acc: 0.8329\n",
      "Epoch 65/100\n",
      "1563/1562 [==============================] - 33s 21ms/step - loss: 0.4656 - acc: 0.8371\n",
      "Epoch 66/100\n",
      "1563/1562 [==============================] - 33s 21ms/step - loss: 0.4646 - acc: 0.8372\n",
      "Epoch 67/100\n",
      "1563/1562 [==============================] - 33s 21ms/step - loss: 0.4612 - acc: 0.8380\n",
      "Epoch 68/100\n",
      "1563/1562 [==============================] - 34s 21ms/step - loss: 0.4537 - acc: 0.8422\n",
      "Epoch 69/100\n",
      "1563/1562 [==============================] - 34s 21ms/step - loss: 0.4495 - acc: 0.8430\n",
      "Epoch 70/100\n",
      "1563/1562 [==============================] - 34s 22ms/step - loss: 0.4476 - acc: 0.8437\n",
      "Epoch 71/100\n",
      "1563/1562 [==============================] - 33s 21ms/step - loss: 0.4459 - acc: 0.8442\n",
      "Epoch 72/100\n",
      "1563/1562 [==============================] - 33s 21ms/step - loss: 0.4422 - acc: 0.8472\n",
      "Epoch 73/100\n",
      "1563/1562 [==============================] - 33s 21ms/step - loss: 0.4355 - acc: 0.8466\n",
      "Epoch 74/100\n",
      "1563/1562 [==============================] - 33s 21ms/step - loss: 0.4350 - acc: 0.8474\n",
      "Epoch 75/100\n",
      "1563/1562 [==============================] - 34s 21ms/step - loss: 0.4295 - acc: 0.8508\n",
      "Epoch 76/100\n",
      "1563/1562 [==============================] - 34s 22ms/step - loss: 0.4302 - acc: 0.8493\n",
      "Epoch 77/100\n",
      "1563/1562 [==============================] - 33s 21ms/step - loss: 0.4289 - acc: 0.8500\n",
      "Epoch 78/100\n",
      "1563/1562 [==============================] - 33s 21ms/step - loss: 0.4252 - acc: 0.8504\n",
      "Epoch 79/100\n",
      "1563/1562 [==============================] - 34s 22ms/step - loss: 0.4198 - acc: 0.8537\n",
      "Epoch 80/100\n",
      "1563/1562 [==============================] - 34s 21ms/step - loss: 0.4188 - acc: 0.8523\n",
      "Epoch 81/100\n",
      "1563/1562 [==============================] - 33s 21ms/step - loss: 0.4161 - acc: 0.8547\n",
      "Epoch 82/100\n",
      "1563/1562 [==============================] - 33s 21ms/step - loss: 0.4152 - acc: 0.8556\n",
      "Epoch 83/100\n",
      "1563/1562 [==============================] - 33s 21ms/step - loss: 0.4100 - acc: 0.8575\n",
      "Epoch 84/100\n",
      "1563/1562 [==============================] - 33s 21ms/step - loss: 0.4082 - acc: 0.8560\n",
      "Epoch 85/100\n",
      "1563/1562 [==============================] - 33s 21ms/step - loss: 0.4049 - acc: 0.8591\n",
      "Epoch 86/100\n",
      "1563/1562 [==============================] - 33s 21ms/step - loss: 0.4031 - acc: 0.8595\n",
      "Epoch 87/100\n",
      "1563/1562 [==============================] - 33s 21ms/step - loss: 0.3975 - acc: 0.8592\n",
      "Epoch 88/100\n",
      "1563/1562 [==============================] - 33s 21ms/step - loss: 0.3948 - acc: 0.8612\n",
      "Epoch 89/100\n",
      "1563/1562 [==============================] - 34s 22ms/step - loss: 0.3923 - acc: 0.8609\n",
      "Epoch 90/100\n",
      "1563/1562 [==============================] - 33s 21ms/step - loss: 0.3907 - acc: 0.8621\n",
      "Epoch 91/100\n",
      "1563/1562 [==============================] - 33s 21ms/step - loss: 0.3896 - acc: 0.8617\n",
      "Epoch 92/100\n",
      "1563/1562 [==============================] - 32s 21ms/step - loss: 0.3871 - acc: 0.8633\n",
      "Epoch 93/100\n",
      "1563/1562 [==============================] - 33s 21ms/step - loss: 0.3836 - acc: 0.8661\n",
      "Epoch 94/100\n",
      "1563/1562 [==============================] - 33s 21ms/step - loss: 0.3831 - acc: 0.8648\n",
      "Epoch 95/100\n",
      "1563/1562 [==============================] - 33s 21ms/step - loss: 0.3791 - acc: 0.8675\n",
      "Epoch 96/100\n",
      "1563/1562 [==============================] - 34s 22ms/step - loss: 0.3801 - acc: 0.8663\n",
      "Epoch 97/100\n",
      "1563/1562 [==============================] - 34s 22ms/step - loss: 0.3742 - acc: 0.8678\n",
      "Epoch 98/100\n",
      "1563/1562 [==============================] - 34s 22ms/step - loss: 0.3729 - acc: 0.8676\n",
      "Epoch 99/100\n",
      "1563/1562 [==============================] - 34s 22ms/step - loss: 0.3692 - acc: 0.8703\n",
      "Epoch 100/100\n",
      "1563/1562 [==============================] - 34s 22ms/step - loss: 0.3702 - acc: 0.8707\n"
     ]
    }
   ],
   "source": [
    "# network structure\n",
    "from keras.optimizers import SGD\n",
    "\n",
    "model5 = Sequential()\n",
    "model5.add(Conv2D(32, (3, 3), activation='relu', padding='same', input_shape=(32, 32, 3)))\n",
    "model5.add(Conv2D(32, (3, 3), activation='relu', padding='same'))\n",
    "model5.add(MaxPooling2D((2, 2)))\n",
    "model5.add(Dropout(0.2))\n",
    "\n",
    "model5.add(Conv2D(64, (3, 3), activation='relu', padding='same'))\n",
    "model5.add(Conv2D(64, (3, 3), activation='relu', padding='same'))\n",
    "model5.add(MaxPooling2D((2, 2)))\n",
    "model5.add(Dropout(0.2))\n",
    "\n",
    "model5.add(Conv2D(128, (3, 3), activation='relu', padding='same'))\n",
    "model5.add(Conv2D(128, (3, 3), activation='relu', padding='same'))\n",
    "model5.add(MaxPooling2D((2, 2)))\n",
    "model5.add(Dropout(0.2))\n",
    "\n",
    "model5.add(Flatten())\n",
    "model5.add(Dense(128, activation='relu', kernel_initializer='he_uniform'))\n",
    "model5.add(Dropout(0.2))\n",
    "\n",
    "model5.add(Dense(10, activation='softmax'))\n",
    "# compile model\n",
    "opt = SGD(lr=0.001, momentum=0.9)\n",
    "model5.compile(optimizer=opt, loss='categorical_crossentropy', metrics=['accuracy'])\n",
    "# <Train your model on the entire training set (50K samples)>\n",
    "# <Use (x_train, y_train_vec) instead of (x_tr, y_tr)>\n",
    "# <Do NOT use the validation_data option (because now you do not have validation data)>\n",
    "# ...\n",
    "datagen = ImageDataGenerator(\n",
    "    width_shift_range=0.1, \n",
    "    height_shift_range=0.1, \n",
    "    horizontal_flip=True, \n",
    "    fill_mode='nearest')\n",
    "\n",
    "datagen.fit(x_train)\n",
    "history5 = model5.fit_generator(datagen.flow(x_train, y_train_vec, batch_size=32), steps_per_epoch=len(x_train) / 32, epochs=100)"
   ]
  },
  {
   "cell_type": "markdown",
   "metadata": {
    "colab_type": "text",
    "id": "0hjMk_RmvcdL"
   },
   "source": [
    "### 3.2. Evaluate the model on the test set\n",
    "\n",
    "Do NOT used the test set until now. Make sure that your model parameters and hyper-parameters are independent of the test set."
   ]
  },
  {
   "cell_type": "code",
   "execution_count": 11,
   "metadata": {
    "colab": {
     "base_uri": "https://localhost:8080/",
     "height": 68
    },
    "colab_type": "code",
    "id": "_PxoqeTqvcdM",
    "outputId": "9c6d53e8-f3cc-4bfb-d629-d0dd11c4e419"
   },
   "outputs": [
    {
     "name": "stdout",
     "output_type": "stream",
     "text": [
      "10000/10000 [==============================] - 1s 116us/step\n",
      "loss = 0.44397567086219786\n",
      "accuracy = 0.8543\n"
     ]
    }
   ],
   "source": [
    "loss_and_acc = model5.evaluate(x_test, y_test_vec)\n",
    "print('loss = ' + str(loss_and_acc[0]))\n",
    "print('accuracy = ' + str(loss_and_acc[1]))"
   ]
  }
 ],
 "metadata": {
  "accelerator": "GPU",
  "colab": {
   "collapsed_sections": [],
   "name": "HM4.ipynb",
   "provenance": []
  },
  "kernelspec": {
   "display_name": "Python 3",
   "language": "python",
   "name": "python3"
  },
  "language_info": {
   "codemirror_mode": {
    "name": "ipython",
    "version": 3
   },
   "file_extension": ".py",
   "mimetype": "text/x-python",
   "name": "python",
   "nbconvert_exporter": "python",
   "pygments_lexer": "ipython3",
   "version": "3.7.1"
  }
 },
 "nbformat": 4,
 "nbformat_minor": 1
}
